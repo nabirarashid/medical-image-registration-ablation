{
 "cells": [
  {
   "cell_type": "markdown",
   "id": "cf105438",
   "metadata": {},
   "source": [
    "# Medical Image Registration Workflow\n",
    "\n",
    "This notebook demonstrates the complete workflow for training and testing a deformation-based medical image registration model using segmentation data."
   ]
  },
  {
   "cell_type": "markdown",
   "id": "8d74e877",
   "metadata": {},
   "source": [
    "## 1. File Path Configuration\n",
    "\n",
    "Update file paths in the training text file by replacing old path prefixes with new ones."
   ]
  },
  {
   "cell_type": "code",
   "execution_count": null,
   "id": "3fa5d8e6",
   "metadata": {},
   "outputs": [],
   "source": [
    "# Read the old file\n",
    "with open('train_npy_copy.txt', 'r') as f:\n",
    "    lines = f.readlines()\n",
    "\n",
    "# Replace the path prefix\n",
    "new_lines = [line.replace('neurite-oasis.v1.0/', 'segmentation_data/') for line in lines]\n",
    "\n",
    "# Write the new file\n",
    "with open('train_npy.txt', 'w') as f:\n",
    "    f.writelines(new_lines)\n",
    "\n",
    "print(\"Path replacement completed!\")\n",
    "print(f\"Updated {len(new_lines)} file paths\")"
   ]
  },
  {
   "cell_type": "markdown",
   "id": "16a6e99e",
   "metadata": {},
   "source": [
    "## 2. Model Training Setup\n",
    "\n",
    "Execute the training script with specified parameters including training data path, template path, batch size, and epochs."
   ]
  },
  {
   "cell_type": "code",
   "execution_count": null,
   "id": "c7e1bf41",
   "metadata": {},
   "outputs": [],
   "source": [
    "# Train the model using the updated paths and simplified loss functions\n",
    "!python train.py --train_txt train_npy.txt --template_path segmentation_data/OASIS_OAS1_0016_MR1/seg4_onehot.npy --batch_size 1 --epochs 5 --save_model_path checkpoints/regloss_model_latest.pth"
   ]
  },
  {
   "cell_type": "markdown",
   "id": "b3b13a31",
   "metadata": {},
   "source": [
    "## 3. Quick Test & Save Model\n",
    "\n",
    "Let's do a quick test to see if the training worked and save the model to your drive."
   ]
  },
  {
   "cell_type": "code",
   "execution_count": null,
   "id": "fd7ea8a5",
   "metadata": {},
   "outputs": [],
   "source": [
    "from get_data import SegDataset\n",
    "from model import UNet, SpatialTransformer\n",
    "import torch\n",
    "\n",
    "device = torch.device('cuda' if torch.cuda.is_available() else 'cpu')\n",
    "\n",
    "train_txt_path = 'train_npy.txt'\n",
    "template_path = 'segmentation_data/OASIS_OAS1_0016_MR1/seg4_onehot.npy'\n",
    "model_path = 'checkpoints/regloss_model_latest.pth'\n",
    "\n",
    "# Re-create dataset and dataloader\n",
    "train_dataset = SegDataset(train_txt_path, template_path)\n",
    "train_loader = torch.utils.data.DataLoader(train_dataset, batch_size=2, shuffle=True)\n",
    "\n",
    "# Re-create your model (UNet + SpatialTransformer)\n",
    "model = UNet(in_channels=10, out_channels=3).to(device)\n",
    "stn = SpatialTransformer(size=(128,128,128), device=device).to(device)\n",
    "\n",
    "# Load the trained model\n",
    "checkpoint = torch.load(model_path, map_location=device)\n",
    "model.load_state_dict(checkpoint['model_state_dict'])\n",
    "model.eval()\n",
    "\n",
    "print(\"Model loaded successfully!\")"
   ]
  },
  {
   "cell_type": "code",
   "execution_count": null,
   "id": "1881e43c",
   "metadata": {},
   "outputs": [],
   "source": [
    "sample_batch = next(iter(train_loader))\n",
    "moving, fixed = sample_batch\n",
    "moving = moving.to(device)\n",
    "fixed = fixed.to(device)\n",
    "\n",
    "with torch.no_grad():\n",
    "    # 1. Concatenate moving and fixed as input to UNet\n",
    "    input_ = torch.cat([moving, fixed], dim=1)  # Shape: (B, 10, 128, 128, 128)\n",
    "\n",
    "    # 2. Get deformation field from UNet\n",
    "    deformation_field = model(input_)\n",
    "\n",
    "    # 3. Apply deformation using SpatialTransformer\n",
    "    warped_template = stn(moving, deformation_field)"
   ]
  },
  {
   "cell_type": "code",
   "execution_count": null,
   "id": "94b0baca",
   "metadata": {},
   "outputs": [],
   "source": [
    "from visualize import visualize_registration_colab\n",
    "visualize_registration_colab(moving, fixed, warped_template)"
   ]
  },
  {
   "cell_type": "code",
   "execution_count": null,
   "id": "a3e131ac",
   "metadata": {},
   "outputs": [],
   "source": [
    "!cp checkpoints/regloss_model_latest.pth /content/drive/MyDrive/segmentation-project/"
   ]
  }
 ],
 "metadata": {
  "language_info": {
   "name": "python"
  }
 },
 "nbformat": 4,
 "nbformat_minor": 5
}
