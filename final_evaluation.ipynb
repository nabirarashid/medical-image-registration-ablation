{
  "cells": [
    {
      "cell_type": "markdown",
      "metadata": {
        "id": "FzglicrrFFB8"
      },
      "source": [
        "seg4_paths_copy.txt file\n",
        "\n",
        "get_data.py file\n",
        "\n",
        "convert_one_hot.py file\n",
        "\n",
        "> from only_affine_model"
      ]
    },
    {
      "cell_type": "code",
      "source": [
        "# ====================================================================\n",
        "# Cell 1: Dependencies and Basic Setup\n",
        "# ====================================================================\n",
        "!pip install psutil scikit-learn seaborn nibabel -q\n",
        "\n",
        "import torch\n",
        "import torch.nn as nn\n",
        "import torch.nn.functional as F\n",
        "import numpy as np\n",
        "import matplotlib.pyplot as plt\n",
        "import seaborn as sns\n",
        "from scipy import stats\n",
        "from scipy.ndimage import map_coordinates\n",
        "from sklearn.metrics import accuracy_score\n",
        "import pandas as pd\n",
        "from tqdm import tqdm\n",
        "import time\n",
        "import psutil\n",
        "import os\n",
        "from pathlib import Path\n",
        "from torch.utils.data import DataLoader\n",
        "import warnings\n",
        "warnings.filterwarnings('ignore')\n",
        "\n",
        "# Mount Google Drive\n",
        "from google.colab import drive\n",
        "drive.mount('/content/drive')\n",
        "\n",
        "# Set plotting style\n",
        "plt.style.use('seaborn-v0_8')\n",
        "sns.set_palette(\"husl\")\n",
        "\n",
        "device = torch.device('cuda' if torch.cuda.is_available() else 'cpu')\n",
        "print(f\"Dependencies loaded. Using device: {device}\")"
      ],
      "metadata": {
        "colab": {
          "base_uri": "https://localhost:8080/"
        },
        "id": "QSH9e2T5zYoz",
        "outputId": "e7584afc-6abf-4728-a17d-b9ded2c64501"
      },
      "execution_count": 1,
      "outputs": [
        {
          "output_type": "stream",
          "name": "stdout",
          "text": [
            "Mounted at /content/drive\n",
            "Dependencies loaded. Using device: cpu\n"
          ]
        }
      ]
    },
    {
      "cell_type": "code",
      "source": [
        "# ====================================================================\n",
        "# Cell 2: Model Architecture Definitions\n",
        "# ====================================================================\n",
        "\n",
        "import torch\n",
        "import torch.nn as nn\n",
        "import torch.nn.functional as F\n",
        "from pathlib import Path\n",
        "\n",
        "class BaselineUNet(nn.Module):\n",
        "    \"\"\"Baseline 3D U-Net - matches original training exactly\"\"\"\n",
        "    def __init__(self, in_channels=10, out_channels=3, base_channels=32):\n",
        "        super(BaselineUNet, self).__init__()\n",
        "\n",
        "        def conv_block(in_channels, out_channels):\n",
        "            return nn.Sequential(\n",
        "                nn.Conv3d(in_channels, out_channels, kernel_size=3, padding=1),\n",
        "                nn.InstanceNorm3d(out_channels),\n",
        "                nn.ReLU(inplace=True),\n",
        "                nn.Conv3d(out_channels, out_channels, kernel_size=3, padding=1),\n",
        "                nn.InstanceNorm3d(out_channels),\n",
        "                nn.ReLU(inplace=True),\n",
        "            )\n",
        "\n",
        "        def upsample_block(in_channels, out_channels):\n",
        "            return nn.ConvTranspose3d(in_channels, out_channels, kernel_size=2, stride=2)\n",
        "\n",
        "        # Encoder\n",
        "        self.enc1 = conv_block(in_channels, 32)\n",
        "        self.pool1 = nn.MaxPool3d(kernel_size=2, stride=2)\n",
        "        self.enc2 = conv_block(32, 64)\n",
        "        self.pool2 = nn.MaxPool3d(kernel_size=2, stride=2)\n",
        "        self.enc3 = conv_block(64, 128)\n",
        "        self.pool3 = nn.MaxPool3d(kernel_size=2, stride=2)\n",
        "        self.enc4 = conv_block(128, 256)\n",
        "        self.pool4 = nn.MaxPool3d(kernel_size=2, stride=2)\n",
        "\n",
        "        # Bottleneck\n",
        "        self.bottleneck = conv_block(256, 512)\n",
        "\n",
        "        # Decoder\n",
        "        self.up4 = upsample_block(512, 256)\n",
        "        self.dec4 = conv_block(512, 256)\n",
        "        self.up3 = upsample_block(256, 128)\n",
        "        self.dec3 = conv_block(256, 128)\n",
        "        self.up2 = upsample_block(128, 64)\n",
        "        self.dec2 = conv_block(128, 64)\n",
        "        self.up1 = upsample_block(64, 32)\n",
        "        self.dec1 = conv_block(64, 32)\n",
        "\n",
        "        # Output\n",
        "        self.out_conv = nn.Conv3d(32, 3, kernel_size=1)\n",
        "\n",
        "    def forward(self, x):\n",
        "        # Encoder part\n",
        "        e1 = self.enc1(x)\n",
        "        p1 = self.pool1(e1)\n",
        "        e2 = self.enc2(p1)\n",
        "        p2 = self.pool2(e2)\n",
        "        e3 = self.enc3(p2)\n",
        "        p3 = self.pool3(e3)\n",
        "        e4 = self.enc4(p3)\n",
        "        p4 = self.pool4(e4)\n",
        "        b = self.bottleneck(p4)\n",
        "\n",
        "        # Decoder part\n",
        "        up4 = self.up4(b)\n",
        "        d4 = self.dec4(torch.cat((up4, e4), dim=1))\n",
        "        up3 = self.up3(d4)\n",
        "        d3 = self.dec3(torch.cat((up3, e3), dim=1))\n",
        "        up2 = self.up2(d3)\n",
        "        d2 = self.dec2(torch.cat((up2, e2), dim=1))\n",
        "        up1 = self.up1(d2)\n",
        "        d1 = self.dec1(torch.cat((up1, e1), dim=1))\n",
        "\n",
        "        deformation_field = self.out_conv(d1)\n",
        "        return deformation_field\n",
        "\n",
        "\n",
        "class RegLossUNet(nn.Module):\n",
        "    \"\"\"U-Net with regularization and tanh scaling\"\"\"\n",
        "    def __init__(self, in_channels=10, out_channels=3, base_channels=32):\n",
        "        super(RegLossUNet, self).__init__()\n",
        "\n",
        "        def conv_block(in_channels, out_channels):\n",
        "            return nn.Sequential(\n",
        "                nn.Conv3d(in_channels, out_channels, kernel_size=3, padding=1),\n",
        "                nn.InstanceNorm3d(out_channels),\n",
        "                nn.ReLU(inplace=True),\n",
        "                nn.Conv3d(out_channels, out_channels, kernel_size=3, padding=1),\n",
        "                nn.InstanceNorm3d(out_channels),\n",
        "                nn.ReLU(inplace=True),\n",
        "            )\n",
        "\n",
        "        def upsample_block(in_channels, out_channels):\n",
        "            return nn.ConvTranspose3d(in_channels, out_channels, kernel_size=2, stride=2)\n",
        "\n",
        "        # Same architecture as baseline\n",
        "        self.enc1 = conv_block(in_channels, 32)\n",
        "        self.pool1 = nn.MaxPool3d(kernel_size=2, stride=2)\n",
        "        self.enc2 = conv_block(32, 64)\n",
        "        self.pool2 = nn.MaxPool3d(kernel_size=2, stride=2)\n",
        "        self.enc3 = conv_block(64, 128)\n",
        "        self.pool3 = nn.MaxPool3d(kernel_size=2, stride=2)\n",
        "        self.enc4 = conv_block(128, 256)\n",
        "        self.pool4 = nn.MaxPool3d(kernel_size=2, stride=2)\n",
        "\n",
        "        self.bottleneck = conv_block(256, 512)\n",
        "\n",
        "        self.up4 = upsample_block(512, 256)\n",
        "        self.dec4 = conv_block(512, 256)\n",
        "        self.up3 = upsample_block(256, 128)\n",
        "        self.dec3 = conv_block(256, 128)\n",
        "        self.up2 = upsample_block(128, 64)\n",
        "        self.dec2 = conv_block(128, 64)\n",
        "        self.up1 = upsample_block(64, 32)\n",
        "        self.dec1 = conv_block(64, 32)\n",
        "\n",
        "        # Output layer with initialization for small displacements\n",
        "        self.out_conv = nn.Conv3d(32, 3, kernel_size=1)\n",
        "        nn.init.normal_(self.out_conv.weight, 0, 0.01)\n",
        "        nn.init.zeros_(self.out_conv.bias)\n",
        "\n",
        "    def forward(self, x):\n",
        "        # Same forward pass as baseline\n",
        "        e1 = self.enc1(x)\n",
        "        p1 = self.pool1(e1)\n",
        "        e2 = self.enc2(p1)\n",
        "        p2 = self.pool2(e2)\n",
        "        e3 = self.enc3(p2)\n",
        "        p3 = self.pool3(e3)\n",
        "        e4 = self.enc4(p3)\n",
        "        p4 = self.pool4(e4)\n",
        "        b = self.bottleneck(p4)\n",
        "\n",
        "        up4 = self.up4(b)\n",
        "        d4 = self.dec4(torch.cat((up4, e4), dim=1))\n",
        "        up3 = self.up3(d4)\n",
        "        d3 = self.dec3(torch.cat((up3, e3), dim=1))\n",
        "        up2 = self.up2(d3)\n",
        "        d2 = self.dec2(torch.cat((up2, e2), dim=1))\n",
        "        up1 = self.up1(d2)\n",
        "        d1 = self.dec1(torch.cat((up1, e1), dim=1))\n",
        "\n",
        "        deformation_field = self.out_conv(d1)\n",
        "        # Key difference: tanh scaling for controlled deformation\n",
        "        deformation_field = torch.tanh(deformation_field) * 0.3\n",
        "        return deformation_field\n",
        "\n",
        "\n",
        "class AffineParameterPredictor(nn.Module):\n",
        "    \"\"\"3D CNN for predicting affine transformation parameters\"\"\"\n",
        "    def __init__(self, in_channels=10):\n",
        "        super(AffineParameterPredictor, self).__init__()\n",
        "\n",
        "        # Memory-efficient encoder\n",
        "        self.encoder = nn.Sequential(\n",
        "            nn.Conv3d(in_channels, 32, 3, padding=1),\n",
        "            nn.ReLU(inplace=True),\n",
        "            nn.MaxPool3d(2),\n",
        "            nn.Conv3d(32, 64, 3, padding=1),\n",
        "            nn.ReLU(inplace=True),\n",
        "            nn.MaxPool3d(2),\n",
        "            nn.AdaptiveAvgPool3d(1)\n",
        "        )\n",
        "\n",
        "        # FC layers\n",
        "        self.fc = nn.Sequential(\n",
        "            nn.Linear(64, 32),\n",
        "            nn.ReLU(inplace=True),\n",
        "            nn.Linear(32, 12)  # 12 affine parameters\n",
        "        )\n",
        "\n",
        "        self._init_weights()\n",
        "\n",
        "    def _init_weights(self):\n",
        "        # Initialize to output identity transformation\n",
        "        with torch.no_grad():\n",
        "            identity = torch.tensor([1,0,0,0, 0,1,0,0, 0,0,1,0], dtype=torch.float32)\n",
        "            self.fc[-1].weight.data.zero_()\n",
        "            self.fc[-1].bias.data.copy_(identity)\n",
        "\n",
        "    def forward(self, x):\n",
        "        features = self.encoder(x)\n",
        "        features = features.view(features.size(0), -1)\n",
        "        affine_params = self.fc(features)\n",
        "        return affine_params.view(-1, 3, 4)  # Reshape to 3x4 affine matrix\n",
        "\n",
        "\n",
        "class AffineSpatialTransformer(nn.Module):\n",
        "    \"\"\"Applies affine transformation to input tensor\"\"\"\n",
        "    def __init__(self, size):\n",
        "        super(AffineSpatialTransformer, self).__init__()\n",
        "        D, H, W = size\n",
        "\n",
        "        # Create normalized coordinate grid\n",
        "        z, y, x = torch.meshgrid(\n",
        "            torch.linspace(-1, 1, D),\n",
        "            torch.linspace(-1, 1, H),\n",
        "            torch.linspace(-1, 1, W),\n",
        "            indexing=\"ij\"\n",
        "        )\n",
        "        grid = torch.stack([x, y, z], dim=-1)\n",
        "        self.register_buffer(\"grid\", grid.view(1, D, H, W, 3))\n",
        "\n",
        "    def forward(self, x, affine):\n",
        "        B, C, D, H, W = x.shape\n",
        "\n",
        "        # Expand grid for batch\n",
        "        grid = self.grid.expand(B, -1, -1, -1, -1)\n",
        "        ones = torch.ones(B, D, H, W, 1, device=x.device)\n",
        "        grid_h = torch.cat([grid, ones], dim=-1)  # Homogeneous coordinates\n",
        "\n",
        "        # Apply affine transformation\n",
        "        grid_affine = torch.matmul(grid_h.view(B, -1, 4), affine.transpose(1, 2))\n",
        "        grid_affine = grid_affine.view(B, D, H, W, 3)\n",
        "\n",
        "        # Clamp to valid range\n",
        "        grid_affine = torch.clamp(grid_affine, -1.1, 1.1)\n",
        "\n",
        "        warped = F.grid_sample(x, grid_affine, mode=\"bilinear\", align_corners=False, padding_mode=\"border\")\n",
        "        return warped\n",
        "\n",
        "\n",
        "class SpatialTransformer(nn.Module):\n",
        "    \"\"\"Dense STN for 3D one-hot maps with dynamic identity grid\"\"\"\n",
        "    def __init__(self, size=None, device='cpu'):\n",
        "        super().__init__()\n",
        "        self.size = size\n",
        "        if size is not None:\n",
        "            D, H, W = size\n",
        "            lin_z = torch.linspace(-1, 1, D, device=device)\n",
        "            lin_y = torch.linspace(-1, 1, H, device=device)\n",
        "            lin_x = torch.linspace(-1, 1, W, device=device)\n",
        "            zz, yy, xx = torch.meshgrid(lin_z, lin_y, lin_x, indexing='ij')\n",
        "            id_grid = torch.stack((xx, yy, zz), dim=-1)\n",
        "            self.register_buffer('id_grid', id_grid.unsqueeze(0))\n",
        "        else:\n",
        "            self.register_buffer('id_grid', None)\n",
        "\n",
        "    def forward(self, moving, flow):\n",
        "        B, C, D, H, W = moving.shape\n",
        "        flow = flow.permute(0, 2, 3, 4, 1)\n",
        "\n",
        "        # Create dynamic grid if not pre-computed or size doesn't match\n",
        "        if self.id_grid is None or self.id_grid.shape[1:4] != (D, H, W):\n",
        "            lin_z = torch.linspace(-1, 1, D, device=moving.device)\n",
        "            lin_y = torch.linspace(-1, 1, H, device=moving.device)\n",
        "            lin_x = torch.linspace(-1, 1, W, device=moving.device)\n",
        "            zz, yy, xx = torch.meshgrid(lin_z, lin_y, lin_x, indexing='ij')\n",
        "            id_grid = torch.stack((xx, yy, zz), dim=-1).unsqueeze(0)\n",
        "        else:\n",
        "            id_grid = self.id_grid\n",
        "\n",
        "        grid = id_grid.expand(B, -1, -1, -1, -1)\n",
        "        warped_grid = grid + flow\n",
        "        warped_grid = torch.clamp(warped_grid, -1.1, 1.1)\n",
        "\n",
        "        warped = F.grid_sample(\n",
        "            moving, warped_grid,\n",
        "            mode='bilinear',\n",
        "            padding_mode='border',\n",
        "            align_corners=False\n",
        "        )\n",
        "        return warped\n",
        "\n",
        "\n",
        "# Combined Model Wrappers for Proper Evaluation\n",
        "class BaselineRegistrationModel(nn.Module):\n",
        "    \"\"\"Simple registration model - UNet + STN only (for baseline)\"\"\"\n",
        "    def __init__(self, size=(128, 128, 128), num_channels=5):\n",
        "        super().__init__()\n",
        "        self.unet = BaselineUNet(in_channels=num_channels * 2, out_channels=3)\n",
        "        self.stn = SpatialTransformer(size)\n",
        "\n",
        "    def forward(self, source, target):\n",
        "        x_input = torch.cat([source, target], dim=1)\n",
        "        deformation_field = self.unet(x_input)\n",
        "        warped_source = self.stn(source, deformation_field)\n",
        "        return warped_source, deformation_field\n",
        "\n",
        "\n",
        "class RegLossRegistrationModel(nn.Module):\n",
        "    \"\"\"Registration model with regularization losses - UNet + STN\"\"\"\n",
        "    def __init__(self, size=(128, 128, 128), num_channels=5):\n",
        "        super().__init__()\n",
        "        self.unet = RegLossUNet(in_channels=num_channels * 2, out_channels=3)\n",
        "        self.stn = SpatialTransformer(size)\n",
        "\n",
        "    def forward(self, source, target):\n",
        "        x_input = torch.cat([source, target], dim=1)\n",
        "        deformation_field = self.unet(x_input)\n",
        "        warped_source = self.stn(source, deformation_field)\n",
        "        return warped_source, deformation_field\n",
        "\n",
        "\n",
        "class CombinedRegistrationModel(nn.Module):\n",
        "    \"\"\"Combined affine + non-rigid registration model\"\"\"\n",
        "    def __init__(self, size=(128, 128, 128), num_channels=5):\n",
        "        super().__init__()\n",
        "        self.affine_predictor = AffineParameterPredictor(in_channels=num_channels * 2)\n",
        "        self.affine_stn = AffineSpatialTransformer(size)\n",
        "        self.unet = RegLossUNet(in_channels=num_channels * 2, out_channels=3)\n",
        "        self.nonrigid_stn = SpatialTransformer(size)\n",
        "\n",
        "    def forward(self, source, target):\n",
        "        # First apply affine registration\n",
        "        x_affine_input = torch.cat([source, target], dim=1)\n",
        "        affine_matrix = self.affine_predictor(x_affine_input)\n",
        "        source_affine = self.affine_stn(source, affine_matrix)\n",
        "\n",
        "        # Then apply non-rigid registration\n",
        "        x_unet_input = torch.cat([source_affine, target], dim=1)\n",
        "        deformation_field = self.unet(x_unet_input)\n",
        "        warped_source = self.nonrigid_stn(source_affine, deformation_field)\n",
        "\n",
        "        return warped_source, affine_matrix, deformation_field, source_affine\n",
        "\n",
        "\n",
        "print(\"Model architectures defined successfully!\")"
      ],
      "metadata": {
        "colab": {
          "base_uri": "https://localhost:8080/"
        },
        "id": "pQv5TtzgzZX9",
        "outputId": "10e16af3-f8d0-4f9f-d706-51516e09406f"
      },
      "execution_count": 2,
      "outputs": [
        {
          "output_type": "stream",
          "name": "stdout",
          "text": [
            "Model architectures defined successfully!\n"
          ]
        }
      ]
    },
    {
      "cell_type": "code",
      "source": [
        "# ====================================================================\n",
        "# Cell 3: Model Loading Functions\n",
        "# ====================================================================\n",
        "\n",
        "def load_baseline_model(checkpoint_path, device):\n",
        "    \"\"\"Load baseline U-Net model from checkpoint\"\"\"\n",
        "    try:\n",
        "        print(f\"Loading Baseline U-Net: {checkpoint_path}\")\n",
        "        checkpoint = torch.load(checkpoint_path, map_location=device)\n",
        "\n",
        "        # Extract config with proper defaults\n",
        "        config = checkpoint.get(\"model_config\", {})\n",
        "        in_channels = config.get(\"in_channels\", 10)\n",
        "        out_channels = config.get(\"out_channels\", 3)\n",
        "        size = config.get(\"size\", (128, 128, 128))\n",
        "\n",
        "        # Create the combined baseline model (UNet + STN)\n",
        "        model = BaselineRegistrationModel(size=size, num_channels=5)\n",
        "\n",
        "        # Handle different checkpoint formats\n",
        "        if \"model_state_dict\" in checkpoint and \"stn_state_dict\" in checkpoint:\n",
        "            # Load UNet and STN separately\n",
        "            model.unet.load_state_dict(checkpoint[\"model_state_dict\"])\n",
        "            model.stn.load_state_dict(checkpoint[\"stn_state_dict\"])\n",
        "        elif \"model_state_dict\" in checkpoint:\n",
        "            # Try to load the entire model\n",
        "            model.load_state_dict(checkpoint[\"model_state_dict\"], strict=False)\n",
        "        else:\n",
        "            # Fallback: assume checkpoint is the state dict\n",
        "            model.load_state_dict(checkpoint, strict=False)\n",
        "\n",
        "        model.to(device)\n",
        "        model.eval()\n",
        "        print(f\"   ✅ Baseline loaded (in_channels={in_channels}, out_channels={out_channels})\")\n",
        "        return model\n",
        "\n",
        "    except Exception as e:\n",
        "        print(f\"   ❌ Failed to load baseline model: {str(e)}\")\n",
        "        return None\n",
        "\n",
        "\n",
        "def load_regloss_model(checkpoint_path, device):\n",
        "    \"\"\"Load regularization loss U-Net model from checkpoint\"\"\"\n",
        "    try:\n",
        "        print(f\"Loading RegLoss U-Net: {checkpoint_path}\")\n",
        "        checkpoint = torch.load(checkpoint_path, map_location=device)\n",
        "\n",
        "        config = checkpoint.get(\"model_config\", {})\n",
        "        in_channels = config.get(\"input_channels\", config.get(\"in_channels\", 10))\n",
        "        out_channels = config.get(\"output_channels\", config.get(\"out_channels\", 3))\n",
        "        size = config.get(\"size\", (128, 128, 128))\n",
        "\n",
        "        # Create the combined reg loss model (RegLoss UNet + STN)\n",
        "        model = RegLossRegistrationModel(size=size, num_channels=5)\n",
        "\n",
        "        # Handle different checkpoint formats\n",
        "        if \"model_state_dict\" in checkpoint and \"stn_state_dict\" in checkpoint:\n",
        "            model.unet.load_state_dict(checkpoint[\"model_state_dict\"])\n",
        "            model.stn.load_state_dict(checkpoint[\"stn_state_dict\"])\n",
        "        elif \"model_state_dict\" in checkpoint:\n",
        "            model.load_state_dict(checkpoint[\"model_state_dict\"], strict=False)\n",
        "        else:\n",
        "            model.load_state_dict(checkpoint, strict=False)\n",
        "\n",
        "        model.to(device)\n",
        "        model.eval()\n",
        "        print(f\"   ✅ RegLoss loaded (in_channels={in_channels}, out_channels={out_channels})\")\n",
        "        return model\n",
        "\n",
        "    except Exception as e:\n",
        "        print(f\"   ❌ Failed to load RegLoss model: {str(e)}\")\n",
        "        return None\n",
        "\n",
        "\n",
        "def load_combined_model(checkpoint_path, device, size=(128, 128, 128), num_channels=5):\n",
        "    \"\"\"Load combined (affine + non-rigid) model from checkpoint\"\"\"\n",
        "    try:\n",
        "        print(f\"Loading Combined Model: {checkpoint_path}\")\n",
        "        checkpoint = torch.load(checkpoint_path, map_location=device)\n",
        "\n",
        "        config = checkpoint.get(\"model_config\", {})\n",
        "        volume_size = config.get(\"volume_size\", size)\n",
        "        model_num_channels = config.get(\"num_channels\", num_channels)\n",
        "\n",
        "        # Use the combined model that matches your training architecture\n",
        "        model = CombinedRegistrationModel(size=volume_size, num_channels=model_num_channels)\n",
        "\n",
        "        # Load state dict\n",
        "        if \"model_state_dict\" in checkpoint:\n",
        "            model.load_state_dict(checkpoint[\"model_state_dict\"], strict=False)\n",
        "        else:\n",
        "            # Try loading individual components if available\n",
        "            if \"affine_predictor_state_dict\" in checkpoint:\n",
        "                model.affine_predictor.load_state_dict(checkpoint[\"affine_predictor_state_dict\"])\n",
        "            if \"affine_stn_state_dict\" in checkpoint:\n",
        "                model.affine_stn.load_state_dict(checkpoint[\"affine_stn_state_dict\"])\n",
        "            if \"unet_state_dict\" in checkpoint:\n",
        "                model.unet.load_state_dict(checkpoint[\"unet_state_dict\"])\n",
        "            if \"nonrigid_stn_state_dict\" in checkpoint:\n",
        "                model.nonrigid_stn.load_state_dict(checkpoint[\"nonrigid_stn_state_dict\"])\n",
        "\n",
        "        model.to(device)\n",
        "        model.eval()\n",
        "        print(f\"   ✅ Combined loaded (volume_size={volume_size}, num_channels={model_num_channels})\")\n",
        "        return model\n",
        "\n",
        "    except Exception as e:\n",
        "        print(f\"   ❌ Failed to load combined model: {str(e)}\")\n",
        "        return None\n",
        "\n",
        "\n",
        "def get_model_configs():\n",
        "    \"\"\"Get model configurations\"\"\"\n",
        "    return [\n",
        "        {\n",
        "            'name': 'Baseline UNet',\n",
        "            'description': 'Standard 3D U-Net baseline',\n",
        "            'path': '/content/drive/MyDrive/segmentation-project/original_unet_model.pth',\n",
        "            'loader': load_baseline_model,\n",
        "            'color': '#e74c3c',  # Red\n",
        "            'type': 'baseline'\n",
        "        },\n",
        "        {\n",
        "            'name': 'RegLoss UNet',\n",
        "            'description': 'U-Net with regularization losses',\n",
        "            'path': '/content/drive/MyDrive/segmentation-project/regloss_model_latest.pth',\n",
        "            'loader': load_regloss_model,\n",
        "            'color': '#3498db',  # Blue\n",
        "            'type': 'regloss_only'\n",
        "        },\n",
        "        {\n",
        "            'name': 'Combined (Basic Loss)',\n",
        "            'description': 'Affine + NonRigid with basic composite loss',\n",
        "            'path': '/content/drive/MyDrive/segmentation-project/affine_unet_model.pth',\n",
        "            'loader': load_combined_model,\n",
        "            'color': '#f39c12',  # Orange\n",
        "            'type': 'combined_basic'\n",
        "        },\n",
        "        {\n",
        "            'name': 'Combined (Reg Loss)',\n",
        "            'description': 'Affine + NonRigid with regularization losses',\n",
        "            'path': '/content/drive/MyDrive/segmentation-project/fully_enhanced_model.pth',\n",
        "            'loader': load_combined_model,\n",
        "            'color': '#27ae60',  # Green\n",
        "            'type': 'combined_enhanced'\n",
        "        }\n",
        "    ]\n",
        "\n",
        "print(\"Model loading functions defined!\")"
      ],
      "metadata": {
        "colab": {
          "base_uri": "https://localhost:8080/"
        },
        "id": "5zXGlPU-zgcL",
        "outputId": "18d46590-4595-499c-99b8-5d2f0016a37a"
      },
      "execution_count": 3,
      "outputs": [
        {
          "output_type": "stream",
          "name": "stdout",
          "text": [
            "Model loading functions defined!\n"
          ]
        }
      ]
    },
    {
      "cell_type": "code",
      "source": [
        "# ====================================================================\n",
        "# Cell 4: Test Model Loading\n",
        "# ====================================================================\n",
        "\n",
        "print(\"=\"*80)\n",
        "print(\"TESTING MODEL LOADING\")\n",
        "print(\"=\"*80)\n",
        "\n",
        "# Set device\n",
        "device = torch.device('cuda' if torch.cuda.is_available() else 'cpu')\n",
        "print(f\"Using device: {device}\")\n",
        "\n",
        "if torch.cuda.is_available():\n",
        "    print(f\"GPU: {torch.cuda.get_device_name(0)}\")\n",
        "    print(f\"GPU Memory: {torch.cuda.get_device_properties(0).total_memory / 1e9:.1f} GB\")\n",
        "    torch.cuda.empty_cache()\n",
        "else:\n",
        "    print(\"⚠️ GPU not available - using CPU (this will be slow!)\")\n",
        "\n",
        "model_configs = get_model_configs()\n",
        "loaded_models = []\n",
        "\n",
        "# Test loading each model\n",
        "for config in model_configs:\n",
        "    print(f\"\\n--- Testing {config['name']} ---\")\n",
        "    if Path(config['path']).exists():\n",
        "        print(f\"✅ File exists: {config['path']}\")\n",
        "\n",
        "        # Try to load the model\n",
        "        model = config['loader'](config['path'], device)\n",
        "        if model is not None:\n",
        "            config['model'] = model\n",
        "            loaded_models.append(config)\n",
        "\n",
        "            # Test model with correct training size (128x128x128)\n",
        "            try:\n",
        "                with torch.no_grad():\n",
        "                    dummy_moving = torch.randn(1, 5, 128, 128, 128).to(device)\n",
        "                    dummy_fixed = torch.randn(1, 5, 128, 128, 128).to(device)\n",
        "                    outputs = model(dummy_moving, dummy_fixed)\n",
        "                    print(f\"   ✅ Forward pass successful: {len(outputs)} outputs returned\")\n",
        "                    for i, out in enumerate(outputs):\n",
        "                        if torch.is_tensor(out):\n",
        "                            print(f\"      Output {i}: {out.shape}\")\n",
        "\n",
        "            except Exception as forward_error:\n",
        "                print(f\"   ⚠️  Forward pass failed: {str(forward_error)}\")\n",
        "                print(\"   (Model loaded but may need architecture adjustments)\")\n",
        "\n",
        "            print(f\"   ✅ {config['name']}: Successfully loaded and tested\")\n",
        "\n",
        "        else:\n",
        "            print(f\"   ❌ {config['name']}: Failed to load\")\n",
        "    else:\n",
        "        print(f\"   ⚠️  File not found: {config['path']}\")\n",
        "\n",
        "print(f\"\\n\" + \"=\"*60)\n",
        "print(f\"MODEL LOADING TEST COMPLETE\")\n",
        "print(f\"Successfully loaded and tested: {len(loaded_models)}/{len(model_configs)} models\")\n",
        "print(\"=\"*60)\n",
        "\n",
        "if loaded_models:\n",
        "    print(\"\\n✅ LOADED MODELS:\")\n",
        "    for config in loaded_models:\n",
        "        print(f\"   - {config['name']} ({config['type']})\")\n",
        "else:\n",
        "    print(\"\\n❌ NO MODELS LOADED - Check file paths and architectures\")"
      ],
      "metadata": {
        "colab": {
          "base_uri": "https://localhost:8080/"
        },
        "id": "i5-1YVuJzjet",
        "outputId": "e7c1909c-9391-4a66-ab4a-8c018427984f"
      },
      "execution_count": 4,
      "outputs": [
        {
          "output_type": "stream",
          "name": "stdout",
          "text": [
            "================================================================================\n",
            "TESTING MODEL LOADING\n",
            "================================================================================\n",
            "Using device: cpu\n",
            "⚠️ GPU not available - using CPU (this will be slow!)\n",
            "\n",
            "--- Testing Baseline UNet ---\n",
            "✅ File exists: /content/drive/MyDrive/segmentation-project/original_unet_model.pth\n",
            "Loading Baseline U-Net: /content/drive/MyDrive/segmentation-project/original_unet_model.pth\n",
            "   ✅ Baseline loaded (in_channels=10, out_channels=3)\n",
            "   ✅ Forward pass successful: 2 outputs returned\n",
            "      Output 0: torch.Size([1, 5, 128, 128, 128])\n",
            "      Output 1: torch.Size([1, 3, 128, 128, 128])\n",
            "   ✅ Baseline UNet: Successfully loaded and tested\n",
            "\n",
            "--- Testing RegLoss UNet ---\n",
            "✅ File exists: /content/drive/MyDrive/segmentation-project/regloss_model_latest.pth\n",
            "Loading RegLoss U-Net: /content/drive/MyDrive/segmentation-project/regloss_model_latest.pth\n",
            "   ✅ RegLoss loaded (in_channels=10, out_channels=3)\n",
            "   ✅ Forward pass successful: 2 outputs returned\n",
            "      Output 0: torch.Size([1, 5, 128, 128, 128])\n",
            "      Output 1: torch.Size([1, 3, 128, 128, 128])\n",
            "   ✅ RegLoss UNet: Successfully loaded and tested\n",
            "\n",
            "--- Testing Combined (Basic Loss) ---\n",
            "✅ File exists: /content/drive/MyDrive/segmentation-project/affine_unet_model.pth\n",
            "Loading Combined Model: /content/drive/MyDrive/segmentation-project/affine_unet_model.pth\n",
            "   ✅ Combined loaded (volume_size=torch.Size([128, 128, 128]), num_channels=5)\n",
            "   ✅ Forward pass successful: 4 outputs returned\n",
            "      Output 0: torch.Size([1, 5, 128, 128, 128])\n",
            "      Output 1: torch.Size([1, 3, 4])\n",
            "      Output 2: torch.Size([1, 3, 128, 128, 128])\n",
            "      Output 3: torch.Size([1, 5, 128, 128, 128])\n",
            "   ✅ Combined (Basic Loss): Successfully loaded and tested\n",
            "\n",
            "--- Testing Combined (Reg Loss) ---\n",
            "✅ File exists: /content/drive/MyDrive/segmentation-project/fully_enhanced_model.pth\n",
            "Loading Combined Model: /content/drive/MyDrive/segmentation-project/fully_enhanced_model.pth\n",
            "   ✅ Combined loaded (volume_size=torch.Size([128, 128, 128]), num_channels=5)\n",
            "   ✅ Forward pass successful: 4 outputs returned\n",
            "      Output 0: torch.Size([1, 5, 128, 128, 128])\n",
            "      Output 1: torch.Size([1, 3, 4])\n",
            "      Output 2: torch.Size([1, 3, 128, 128, 128])\n",
            "      Output 3: torch.Size([1, 5, 128, 128, 128])\n",
            "   ✅ Combined (Reg Loss): Successfully loaded and tested\n",
            "\n",
            "============================================================\n",
            "MODEL LOADING TEST COMPLETE\n",
            "Successfully loaded and tested: 4/4 models\n",
            "============================================================\n",
            "\n",
            "✅ LOADED MODELS:\n",
            "   - Baseline UNet (baseline)\n",
            "   - RegLoss UNet (regloss_only)\n",
            "   - Combined (Basic Loss) (combined_basic)\n",
            "   - Combined (Reg Loss) (combined_enhanced)\n"
          ]
        }
      ]
    },
    {
      "cell_type": "code",
      "source": [
        "# ====================================================================\n",
        "# Cell 5: Enhanced Registration Metrics Functions (FIXED)\n",
        "# ====================================================================\n",
        "\n",
        "def compute_enhanced_registration_metrics(moving_img, fixed_img, registered_img):\n",
        "    \"\"\"Compute enhanced registration metrics including all basic + advanced metrics - IMPROVED VERSION\"\"\"\n",
        "    try:\n",
        "        device = moving_img.device\n",
        "        fixed_img = fixed_img.to(device)\n",
        "        registered_img = registered_img.to(device)\n",
        "        eps = 1e-8\n",
        "\n",
        "        # ===== BASIC METRICS (UNCHANGED FOR COMPATIBILITY) =====\n",
        "        # MSE metrics\n",
        "        mse_original = torch.mean((moving_img - fixed_img) ** 2).item()\n",
        "        mse_registered = torch.mean((registered_img - fixed_img) ** 2).item()\n",
        "        mse_improvement = mse_original - mse_registered\n",
        "\n",
        "        # Global NCC with stability\n",
        "        def safe_ncc(img1, img2):\n",
        "            img1_flat = img1.view(-1)\n",
        "            img2_flat = img2.view(-1)\n",
        "            mean1 = torch.mean(img1_flat)\n",
        "            mean2 = torch.mean(img2_flat)\n",
        "            centered1 = img1_flat - mean1\n",
        "            centered2 = img2_flat - mean2\n",
        "            numerator = torch.sum(centered1 * centered2)\n",
        "            denominator = torch.sqrt(torch.sum(centered1**2) * torch.sum(centered2**2)) + eps\n",
        "            return (numerator / denominator).item()\n",
        "\n",
        "        ncc_original = safe_ncc(moving_img, fixed_img)\n",
        "        ncc_registered = safe_ncc(registered_img, fixed_img)\n",
        "        ncc_improvement = ncc_registered - ncc_original\n",
        "\n",
        "        # SSIM approximation\n",
        "        def safe_ssim(img1, img2):\n",
        "            mu1 = torch.mean(img1)\n",
        "            mu2 = torch.mean(img2)\n",
        "            sigma1_sq = torch.var(img1) + eps\n",
        "            sigma2_sq = torch.var(img2) + eps\n",
        "            sigma12 = torch.mean((img1 - mu1) * (img2 - mu2))\n",
        "            C1, C2 = 0.01**2, 0.03**2\n",
        "            ssim = ((2*mu1*mu2 + C1) * (2*sigma12 + C2)) / ((mu1**2 + mu2**2 + C1) * (sigma1_sq + sigma2_sq + C2))\n",
        "            return ssim.item()\n",
        "\n",
        "        ssim_original = safe_ssim(moving_img, fixed_img)\n",
        "        ssim_registered = safe_ssim(registered_img, fixed_img)\n",
        "        ssim_improvement = ssim_registered - ssim_original\n",
        "\n",
        "        # ===== ENHANCED METRICS (IMPROVED IMPLEMENTATIONS) =====\n",
        "\n",
        "        # 1. IMPROVED Local NCC\n",
        "        def compute_local_ncc_improved(img1, img2):\n",
        "            \"\"\"Compute NCC over local regions using better sampling\"\"\"\n",
        "            try:\n",
        "                B, C, D, H, W = img1.shape\n",
        "                # Use overlapping windows for better coverage\n",
        "                window_size = min(16, D//2, H//2, W//2)\n",
        "                if window_size < 4:\n",
        "                    return safe_ncc(img1, img2)  # Fallback to global NCC\n",
        "\n",
        "                stride = max(1, window_size // 2)\n",
        "                local_nccs = []\n",
        "\n",
        "                # Sample windows across the volume\n",
        "                for i in range(0, D-window_size+1, stride):\n",
        "                    for j in range(0, H-window_size+1, stride):\n",
        "                        for k in range(0, W-window_size+1, stride):\n",
        "                            if len(local_nccs) >= 50:  # Limit for efficiency\n",
        "                                break\n",
        "\n",
        "                            window1 = img1[:, :, i:i+window_size, j:j+window_size, k:k+window_size]\n",
        "                            window2 = img2[:, :, i:i+window_size, j:j+window_size, k:k+window_size]\n",
        "\n",
        "                            # Compute NCC for this window\n",
        "                            ncc_val = safe_ncc(window1, window2)\n",
        "                            if not np.isnan(ncc_val):\n",
        "                                local_nccs.append(ncc_val)\n",
        "\n",
        "                        if len(local_nccs) >= 50:\n",
        "                            break\n",
        "                    if len(local_nccs) >= 50:\n",
        "                        break\n",
        "\n",
        "                return np.mean(local_nccs) if local_nccs else 0.0\n",
        "            except:\n",
        "                return safe_ncc(img1, img2)  # Fallback\n",
        "\n",
        "        local_ncc_original = compute_local_ncc_improved(moving_img, fixed_img)\n",
        "        local_ncc_registered = compute_local_ncc_improved(registered_img, fixed_img)\n",
        "        local_ncc_improvement = local_ncc_registered - local_ncc_original\n",
        "\n",
        "        # 2. FIXED Gradient Correlation\n",
        "        def compute_gradient_correlation_fixed(img1, img2):\n",
        "            \"\"\"Compute correlation between image gradients - FIXED VERSION\"\"\"\n",
        "            try:\n",
        "                B, C, D, H, W = img1.shape\n",
        "\n",
        "                # Take middle slice and first channel to get 2D slice\n",
        "                mid_slice = D // 2\n",
        "                slice1 = img1[0, 0, mid_slice, :, :].unsqueeze(0).unsqueeze(0)  # [1, 1, H, W]\n",
        "                slice2 = img2[0, 0, mid_slice, :, :].unsqueeze(0).unsqueeze(0)  # [1, 1, H, W]\n",
        "\n",
        "                # Check minimum size\n",
        "                if slice1.shape[2] < 3 or slice1.shape[3] < 3:\n",
        "                    return 0.0\n",
        "\n",
        "                # Simple gradient using diff (more reliable than conv2d)\n",
        "                grad1_x = torch.diff(slice1, dim=3)  # Gradient in x direction [1, 1, H, W-1]\n",
        "                grad1_y = torch.diff(slice1, dim=2)  # Gradient in y direction [1, 1, H-1, W]\n",
        "                grad2_x = torch.diff(slice2, dim=3)\n",
        "                grad2_y = torch.diff(slice2, dim=2)\n",
        "\n",
        "                # Match dimensions by cropping\n",
        "                min_h = min(grad1_x.shape[2], grad1_y.shape[2], grad2_x.shape[2], grad2_y.shape[2])\n",
        "                min_w = min(grad1_x.shape[3], grad1_y.shape[3], grad2_x.shape[3], grad2_y.shape[3])\n",
        "\n",
        "                grad1_x = grad1_x[:, :, :min_h, :min_w]\n",
        "                grad1_y = grad1_y[:, :, :min_h, :min_w]\n",
        "                grad2_x = grad2_x[:, :, :min_h, :min_w]\n",
        "                grad2_y = grad2_y[:, :, :min_h, :min_w]\n",
        "\n",
        "                # Gradient magnitude\n",
        "                grad1_mag = torch.sqrt(grad1_x**2 + grad1_y**2 + eps)\n",
        "                grad2_mag = torch.sqrt(grad2_x**2 + grad2_y**2 + eps)\n",
        "\n",
        "                # Flatten and compute correlation\n",
        "                grad1_flat = grad1_mag.view(-1)\n",
        "                grad2_flat = grad2_mag.view(-1)\n",
        "\n",
        "                if len(grad1_flat) > 0:\n",
        "                    mean1 = torch.mean(grad1_flat)\n",
        "                    mean2 = torch.mean(grad2_flat)\n",
        "                    centered1 = grad1_flat - mean1\n",
        "                    centered2 = grad2_flat - mean2\n",
        "                    numerator = torch.sum(centered1 * centered2)\n",
        "                    denom = torch.sqrt(torch.sum(centered1**2) * torch.sum(centered2**2)) + eps\n",
        "                    corr = (numerator / denom).item()\n",
        "                    return corr if not np.isnan(corr) else 0.0\n",
        "\n",
        "                return 0.0\n",
        "\n",
        "            except Exception as e:\n",
        "                print(f\"Gradient correlation error: {e}\")\n",
        "                return 0.0\n",
        "\n",
        "        gradient_corr_original = compute_gradient_correlation_fixed(moving_img, fixed_img)\n",
        "        gradient_corr_registered = compute_gradient_correlation_fixed(registered_img, fixed_img)\n",
        "        gradient_correlation = gradient_corr_registered  # Keep absolute value for compatibility\n",
        "\n",
        "        # 3. FAST Mutual Information (much more efficient)\n",
        "        def compute_mutual_information_fast(img1, img2):\n",
        "            \"\"\"Fast mutual information using efficient sampling\"\"\"\n",
        "            try:\n",
        "                # Much smaller sample for speed\n",
        "                img1_flat = img1.view(-1)\n",
        "                img2_flat = img2.view(-1)\n",
        "\n",
        "                # Use fixed small sample size for speed\n",
        "                n_samples = min(5000, len(img1_flat))  # Reduced from 50000\n",
        "\n",
        "                # Use stride sampling instead of randperm for speed\n",
        "                stride = max(1, len(img1_flat) // n_samples)\n",
        "                img1_sample = img1_flat[::stride][:n_samples]\n",
        "                img2_sample = img2_flat[::stride][:n_samples]\n",
        "\n",
        "                # Quick normalization\n",
        "                img1_min, img1_max = img1_sample.min(), img1_sample.max()\n",
        "                img2_min, img2_max = img2_sample.min(), img2_sample.max()\n",
        "\n",
        "                if img1_max - img1_min < eps or img2_max - img2_min < eps:\n",
        "                    return 0.0\n",
        "\n",
        "                img1_norm = (img1_sample - img1_min) / (img1_max - img1_min + eps)\n",
        "                img2_norm = (img2_sample - img2_min) / (img2_max - img2_min + eps)\n",
        "\n",
        "                # Smaller bins for speed\n",
        "                bins = 16  # Reduced from 32\n",
        "                img1_bins = (img1_norm * (bins - 1)).long()\n",
        "                img2_bins = (img2_norm * (bins - 1)).long()\n",
        "\n",
        "                img1_bins = torch.clamp(img1_bins, 0, bins - 1)\n",
        "                img2_bins = torch.clamp(img2_bins, 0, bins - 1)\n",
        "\n",
        "                # Fast histogram using bincount\n",
        "                joint_indices = img1_bins * bins + img2_bins\n",
        "                joint_hist = torch.bincount(joint_indices, minlength=bins*bins).float()\n",
        "                joint_hist = joint_hist.view(bins, bins)\n",
        "\n",
        "                if joint_hist.sum() < eps:\n",
        "                    return 0.0\n",
        "\n",
        "                joint_hist = joint_hist / joint_hist.sum()\n",
        "\n",
        "                # Marginal distributions\n",
        "                p_x = joint_hist.sum(dim=1)\n",
        "                p_y = joint_hist.sum(dim=0)\n",
        "\n",
        "                # Vectorized MI calculation (much faster)\n",
        "                mask = (joint_hist > eps) & (p_x.unsqueeze(1) > eps) & (p_y.unsqueeze(0) > eps)\n",
        "                if mask.sum() == 0:\n",
        "                    return 0.0\n",
        "\n",
        "                joint_masked = joint_hist[mask]\n",
        "                marginal_product = (p_x.unsqueeze(1) * p_y.unsqueeze(0))[mask]\n",
        "\n",
        "                mi = torch.sum(joint_masked * torch.log(joint_masked / marginal_product))\n",
        "                return mi.item()\n",
        "\n",
        "            except Exception as e:\n",
        "                print(f\"MI computation error: {e}\")\n",
        "                return 0.0\n",
        "\n",
        "        mi_original = compute_mutual_information_fast(moving_img, fixed_img)\n",
        "        mi_registered = compute_mutual_information_fast(registered_img, fixed_img)\n",
        "        mutual_information = mi_registered  # Keep absolute value for compatibility\n",
        "\n",
        "        # 4. IMPROVED Local SSIM (keep original name)\n",
        "        def compute_local_ssim_mean_improved(img1, img2):\n",
        "            \"\"\"Compute mean SSIM over local regions - improved\"\"\"\n",
        "            try:\n",
        "                B, C, D, H, W = img1.shape\n",
        "                window_size = min(16, D//2, H//2, W//2)\n",
        "                if window_size < 4:\n",
        "                    return safe_ssim(img1, img2)\n",
        "\n",
        "                stride = window_size // 2\n",
        "                ssim_values = []\n",
        "\n",
        "                # Sample local regions\n",
        "                for i in range(0, D-window_size+1, stride):\n",
        "                    for j in range(0, H-window_size+1, stride):\n",
        "                        for k in range(0, W-window_size+1, stride):\n",
        "                            if len(ssim_values) >= 20:  # Limit for efficiency\n",
        "                                break\n",
        "\n",
        "                            patch1 = img1[:, :, i:i+window_size, j:j+window_size, k:k+window_size]\n",
        "                            patch2 = img2[:, :, i:i+window_size, j:j+window_size, k:k+window_size]\n",
        "\n",
        "                            ssim_val = safe_ssim(patch1, patch2)\n",
        "                            if not np.isnan(ssim_val):\n",
        "                                ssim_values.append(ssim_val)\n",
        "\n",
        "                        if len(ssim_values) >= 20:\n",
        "                            break\n",
        "                    if len(ssim_values) >= 20:\n",
        "                        break\n",
        "\n",
        "                return np.mean(ssim_values) if ssim_values else safe_ssim(img1, img2)\n",
        "            except:\n",
        "                return safe_ssim(img1, img2)\n",
        "\n",
        "        local_ssim_original = compute_local_ssim_mean_improved(moving_img, fixed_img)\n",
        "        local_ssim_registered = compute_local_ssim_mean_improved(registered_img, fixed_img)\n",
        "        local_ssim_mean = local_ssim_registered  # Keep absolute value for compatibility\n",
        "\n",
        "        # Combine all metrics - KEEP EXACT SAME FORMAT FOR COMPATIBILITY\n",
        "        enhanced_metrics = {\n",
        "            # Basic metrics (unchanged)\n",
        "            'mse_original': mse_original,\n",
        "            'mse_registered': mse_registered,\n",
        "            'mse_improvement': mse_improvement,\n",
        "            'ncc_original': ncc_original,\n",
        "            'ncc_registered': ncc_registered,\n",
        "            'ncc_improvement': ncc_improvement,\n",
        "            'ssim_original': ssim_original,\n",
        "            'ssim_registered': ssim_registered,\n",
        "            'ssim_improvement': ssim_improvement,\n",
        "\n",
        "            # Enhanced metrics (same names, improved implementations)\n",
        "            'local_ncc_improvement': local_ncc_improvement,\n",
        "            'gradient_correlation': gradient_correlation,  # Now should be non-zero\n",
        "            'mutual_information': mutual_information,\n",
        "            'local_ssim_mean': local_ssim_mean\n",
        "        }\n",
        "\n",
        "        return enhanced_metrics\n",
        "\n",
        "    except Exception as e:\n",
        "        print(f\"Warning: Error computing enhanced registration metrics: {e}\")\n",
        "        return {\n",
        "            'mse_original': 0, 'mse_registered': 0, 'mse_improvement': 0,\n",
        "            'ncc_original': 0, 'ncc_registered': 0, 'ncc_improvement': 0,\n",
        "            'ssim_original': 0, 'ssim_registered': 0, 'ssim_improvement': 0,\n",
        "            'local_ncc_improvement': 0, 'gradient_correlation': 0,\n",
        "            'mutual_information': 0, 'local_ssim_mean': 0\n",
        "        }\n",
        "\n",
        "\n",
        "def compute_enhanced_deformation_metrics(deformation_field):\n",
        "    \"\"\"Compute enhanced deformation field quality metrics - IMPROVED VERSION\"\"\"\n",
        "    if deformation_field is None:\n",
        "        return {\n",
        "            'max_displacement': 0, 'mean_displacement': 0, 'std_displacement': 0,\n",
        "            'jacobian_determinant_mean': 1.0, 'jacobian_determinant_std': 0.0,\n",
        "            'negative_jacobian_ratio': 0.0, 'folding_count': 0,\n",
        "            'smoothness_score': 0.0, 'local_rigidity_score': 0.0,\n",
        "            'boundary_preservation_score': 0.0, 'anatomical_plausibility_score': 0.0,\n",
        "            'deformation_magnitude_distribution': [0]*5, 'has_field': False\n",
        "        }\n",
        "\n",
        "    try:\n",
        "        device = deformation_field.device\n",
        "        B, C, D, H, W = deformation_field.shape\n",
        "        eps = 1e-8\n",
        "\n",
        "        # Basic displacement analysis (unchanged for compatibility)\n",
        "        displacement_magnitude = torch.norm(deformation_field, dim=1)\n",
        "        max_displacement = torch.max(displacement_magnitude).item()\n",
        "        mean_displacement = torch.mean(displacement_magnitude).item()\n",
        "        std_displacement = torch.std(displacement_magnitude).item()\n",
        "\n",
        "        # IMPROVED Jacobian determinant analysis\n",
        "        def compute_jacobian_determinant_3d_improved(deformation_field):\n",
        "            \"\"\"MUCH IMPROVED 3D Jacobian determinant computation\"\"\"\n",
        "            try:\n",
        "                B, C, D, H, W = deformation_field.shape\n",
        "\n",
        "                # Use finite differences with proper boundary handling\n",
        "                def finite_diff_3d(tensor, dim, spacing=1.0):\n",
        "                    \"\"\"Compute finite differences along specified dimension\"\"\"\n",
        "                    if tensor.shape[dim] < 3:\n",
        "                        return torch.zeros_like(tensor)\n",
        "\n",
        "                    if dim == 2:  # z direction\n",
        "                        diff = torch.zeros_like(tensor)\n",
        "                        diff[:, :, 1:-1, :, :] = (tensor[:, :, 2:, :, :] - tensor[:, :, :-2, :, :]) / (2 * spacing)\n",
        "                        diff[:, :, 0, :, :] = tensor[:, :, 1, :, :] - tensor[:, :, 0, :, :]\n",
        "                        diff[:, :, -1, :, :] = tensor[:, :, -1, :, :] - tensor[:, :, -2, :, :]\n",
        "                    elif dim == 3:  # y direction\n",
        "                        diff = torch.zeros_like(tensor)\n",
        "                        diff[:, :, :, 1:-1, :] = (tensor[:, :, :, 2:, :] - tensor[:, :, :, :-2, :]) / (2 * spacing)\n",
        "                        diff[:, :, :, 0, :] = tensor[:, :, :, 1, :] - tensor[:, :, :, 0, :]\n",
        "                        diff[:, :, :, -1, :] = tensor[:, :, :, -1, :] - tensor[:, :, :, -2, :]\n",
        "                    elif dim == 4:  # x direction\n",
        "                        diff = torch.zeros_like(tensor)\n",
        "                        diff[:, :, :, :, 1:-1] = (tensor[:, :, :, :, 2:] - tensor[:, :, :, :, :-2]) / (2 * spacing)\n",
        "                        diff[:, :, :, :, 0] = tensor[:, :, :, :, 1] - tensor[:, :, :, :, 0]\n",
        "                        diff[:, :, :, :, -1] = tensor[:, :, :, :, -1] - tensor[:, :, :, :, -2]\n",
        "\n",
        "                    return diff\n",
        "\n",
        "                # Compute all partial derivatives\n",
        "                # u = displacement in x, v = displacement in y, w = displacement in z\n",
        "                u = deformation_field[:, 0, :, :, :]  # x-component\n",
        "                v = deformation_field[:, 1, :, :, :]  # y-component\n",
        "                w = deformation_field[:, 2, :, :, :]  # z-component\n",
        "\n",
        "                # Partial derivatives\n",
        "                du_dx = finite_diff_3d(u.unsqueeze(1), dim=4).squeeze(1)  # ∂u/∂x\n",
        "                du_dy = finite_diff_3d(u.unsqueeze(1), dim=3).squeeze(1)  # ∂u/∂y\n",
        "                du_dz = finite_diff_3d(u.unsqueeze(1), dim=2).squeeze(1)  # ∂u/∂z\n",
        "\n",
        "                dv_dx = finite_diff_3d(v.unsqueeze(1), dim=4).squeeze(1)  # ∂v/∂x\n",
        "                dv_dy = finite_diff_3d(v.unsqueeze(1), dim=3).squeeze(1)  # ∂v/∂y\n",
        "                dv_dz = finite_diff_3d(v.unsqueeze(1), dim=2).squeeze(1)  # ∂v/∂z\n",
        "\n",
        "                dw_dx = finite_diff_3d(w.unsqueeze(1), dim=4).squeeze(1)  # ∂w/∂x\n",
        "                dw_dy = finite_diff_3d(w.unsqueeze(1), dim=3).squeeze(1)  # ∂w/∂y\n",
        "                dw_dz = finite_diff_3d(w.unsqueeze(1), dim=2).squeeze(1)  # ∂w/∂z\n",
        "\n",
        "                # Jacobian matrix is I + grad(displacement)\n",
        "                # J = |1+∂u/∂x  ∂u/∂y   ∂u/∂z |\n",
        "                #     |∂v/∂x    1+∂v/∂y ∂v/∂z |\n",
        "                #     |∂w/∂x    ∂w/∂y   1+∂w/∂z|\n",
        "\n",
        "                # Compute 3x3 determinant\n",
        "                jacobian_det = (\n",
        "                    (1 + du_dx) * ((1 + dv_dy) * (1 + dw_dz) - dv_dz * dw_dy) -\n",
        "                    du_dy * (dv_dx * (1 + dw_dz) - dv_dz * dw_dx) +\n",
        "                    du_dz * (dv_dx * dw_dy - (1 + dv_dy) * dw_dx)\n",
        "                )\n",
        "\n",
        "                return jacobian_det\n",
        "\n",
        "            except Exception as e:\n",
        "                print(f\"Warning in improved jacobian computation: {e}\")\n",
        "                # Better fallback - use displacement magnitude to estimate jacobian\n",
        "                displacement_magnitude = torch.norm(deformation_field, dim=1)\n",
        "                # Assume small deformations: det(J) ≈ 1 - div(u) where div(u) ≈ |u|/scale\n",
        "                return torch.ones_like(displacement_magnitude) * (1 - 0.1 * displacement_magnitude)\n",
        "\n",
        "        jacobian_det = compute_jacobian_determinant_3d_improved(deformation_field)\n",
        "        jacobian_mean = torch.mean(jacobian_det).item()\n",
        "        jacobian_std = torch.std(jacobian_det).item()\n",
        "\n",
        "        # Count negative jacobians (folding)\n",
        "        negative_jacobians = (jacobian_det <= eps).sum().item()\n",
        "        total_jacobians = jacobian_det.numel()\n",
        "        negative_jacobian_ratio = negative_jacobians / max(1, total_jacobians)\n",
        "        folding_count = negative_jacobians\n",
        "\n",
        "        # SIMPLIFIED Smoothness analysis (fixed)\n",
        "        def compute_smoothness_score_simplified(deformation_field):\n",
        "            \"\"\"Simplified but robust deformation field smoothness\"\"\"\n",
        "            try:\n",
        "                total_roughness = 0.0\n",
        "                count = 0\n",
        "\n",
        "                B, C, D, H, W = deformation_field.shape\n",
        "\n",
        "                # Check minimum dimensions\n",
        "                if D < 3 or H < 3 or W < 3:\n",
        "                    return 0.5\n",
        "\n",
        "                for dim in range(3):  # x, y, z components\n",
        "                    component = deformation_field[:, dim, :, :, :]\n",
        "\n",
        "                    # Simple second derivatives using diff\n",
        "                    try:\n",
        "                        if D > 2:\n",
        "                            second_deriv_z = torch.diff(component, n=2, dim=1)  # Along D dimension\n",
        "                            total_roughness += torch.mean(torch.abs(second_deriv_z)).item()\n",
        "                            count += 1\n",
        "\n",
        "                        if H > 2:\n",
        "                            second_deriv_y = torch.diff(component, n=2, dim=2)  # Along H dimension\n",
        "                            total_roughness += torch.mean(torch.abs(second_deriv_y)).item()\n",
        "                            count += 1\n",
        "\n",
        "                        if W > 2:\n",
        "                            second_deriv_x = torch.diff(component, n=2, dim=3)  # Along W dimension\n",
        "                            total_roughness += torch.mean(torch.abs(second_deriv_x)).item()\n",
        "                            count += 1\n",
        "                    except Exception as inner_e:\n",
        "                        print(f\"Inner smoothness error: {inner_e}\")\n",
        "                        continue\n",
        "\n",
        "                if count == 0:\n",
        "                    return 0.5\n",
        "\n",
        "                avg_roughness = total_roughness / count\n",
        "                # Convert to smoothness score (0 = rough, 1 = smooth)\n",
        "                smoothness = np.exp(-avg_roughness * 5)  # Reduced multiplier\n",
        "                return max(0.0, min(1.0, smoothness))\n",
        "\n",
        "            except Exception as e:\n",
        "                print(f\"Smoothness computation error: {e}\")\n",
        "                return 0.5  # Neutral value\n",
        "\n",
        "        smoothness_score = compute_smoothness_score_simplified(deformation_field)\n",
        "\n",
        "        # KEEP ALL OTHER FUNCTIONS UNCHANGED FOR COMPATIBILITY\n",
        "        # Local rigidity score (measures how uniform deformation is locally)\n",
        "        def compute_local_rigidity_score(deformation_field):\n",
        "            \"\"\"Measure local rigidity of deformation\"\"\"\n",
        "            try:\n",
        "                # Use pooling to measure local variation\n",
        "                if all(s > 8 for s in deformation_field.shape[2:]):\n",
        "                    pooled_def = F.avg_pool3d(deformation_field, kernel_size=8, stride=4, padding=2)\n",
        "                    local_variance = torch.var(pooled_def, dim=(2, 3, 4))\n",
        "                    rigidity = torch.exp(-torch.mean(local_variance))\n",
        "                    return rigidity.item()\n",
        "                else:\n",
        "                    return 0.5\n",
        "            except:\n",
        "                return 0.5\n",
        "\n",
        "        local_rigidity_score = compute_local_rigidity_score(deformation_field)\n",
        "\n",
        "        # Boundary preservation (check if deformation is smaller at boundaries)\n",
        "        def compute_boundary_preservation_score(deformation_field):\n",
        "            \"\"\"Measure how well boundaries are preserved\"\"\"\n",
        "            try:\n",
        "                B, C, D, H, W = deformation_field.shape\n",
        "\n",
        "                if D < 4 or H < 4 or W < 4:\n",
        "                    return 1.0  # Small volumes - assume good preservation\n",
        "\n",
        "                # Extract boundary slices\n",
        "                boundary_slices = [\n",
        "                    deformation_field[:, :, 0, :, :],      # front\n",
        "                    deformation_field[:, :, -1, :, :],     # back\n",
        "                    deformation_field[:, :, :, 0, :],      # top\n",
        "                    deformation_field[:, :, :, -1, :],     # bottom\n",
        "                    deformation_field[:, :, :, :, 0],      # left\n",
        "                    deformation_field[:, :, :, :, -1],     # right\n",
        "                ]\n",
        "\n",
        "                boundary_magnitude = torch.mean(torch.stack([torch.norm(slice_def, dim=1)\n",
        "                                                            for slice_def in boundary_slices]))\n",
        "                interior_magnitude = torch.mean(torch.norm(deformation_field[:, :, 1:-1, 1:-1, 1:-1], dim=1))\n",
        "\n",
        "                # Good boundary preservation means smaller deformation at boundaries\n",
        "                preservation_score = torch.exp(-(boundary_magnitude / (interior_magnitude + eps)))\n",
        "                return preservation_score.item()\n",
        "            except:\n",
        "                return 0.5\n",
        "\n",
        "        boundary_preservation_score = compute_boundary_preservation_score(deformation_field)\n",
        "\n",
        "        # Anatomical plausibility score (combined measure)\n",
        "        anatomical_plausibility_score = (\n",
        "            0.4 * max(0, min(1, 2 - abs(jacobian_mean - 1.0))) +  # Close to volume preserving\n",
        "            0.3 * smoothness_score +                              # Smooth deformation\n",
        "            0.2 * max(0, min(1, 1 - negative_jacobian_ratio)) +   # Few foldings\n",
        "            0.1 * local_rigidity_score                            # Locally rigid\n",
        "        )\n",
        "\n",
        "        # Deformation magnitude distribution (percentiles) - UNCHANGED\n",
        "        displacement_flat = displacement_magnitude.view(-1)\n",
        "        try:\n",
        "            percentiles = [0, 25, 50, 75, 100]\n",
        "            deformation_distribution = [torch.quantile(displacement_flat, p/100.0).item()\n",
        "                                      for p in percentiles]\n",
        "        except:\n",
        "            deformation_distribution = [0, 0, mean_displacement, mean_displacement*1.5, max_displacement]\n",
        "\n",
        "        # RETURN EXACT SAME FORMAT FOR COMPATIBILITY\n",
        "        return {\n",
        "            'max_displacement': max_displacement,\n",
        "            'mean_displacement': mean_displacement,\n",
        "            'std_displacement': std_displacement,\n",
        "            'jacobian_determinant_mean': jacobian_mean,\n",
        "            'jacobian_determinant_std': jacobian_std,\n",
        "            'negative_jacobian_ratio': negative_jacobian_ratio,\n",
        "            'folding_count': folding_count,\n",
        "            'smoothness_score': smoothness_score,  # Now should be non-zero\n",
        "            'local_rigidity_score': local_rigidity_score,\n",
        "            'boundary_preservation_score': boundary_preservation_score,\n",
        "            'anatomical_plausibility_score': anatomical_plausibility_score,\n",
        "            'deformation_magnitude_distribution': deformation_distribution,\n",
        "            'has_field': True\n",
        "        }\n",
        "\n",
        "    except Exception as e:\n",
        "        print(f\"Warning: Error analyzing deformation field: {e}\")\n",
        "        return {\n",
        "            'max_displacement': 0, 'mean_displacement': 0, 'std_displacement': 0,\n",
        "            'jacobian_determinant_mean': 1.0, 'jacobian_determinant_std': 0.0,\n",
        "            'negative_jacobian_ratio': 0.0, 'folding_count': 0,\n",
        "            'smoothness_score': 0.0, 'local_rigidity_score': 0.0,\n",
        "            'boundary_preservation_score': 0.0, 'anatomical_plausibility_score': 0.0,\n",
        "            'deformation_magnitude_distribution': [0]*5, 'has_field': False\n",
        "        }\n",
        "\n",
        "\n",
        "print(\"Enhanced registration and deformation metrics functions improved and defined!\")\n",
        "print(\"\\nKey improvements while maintaining compatibility:\")\n",
        "print(\"✅ FIXED: Gradient correlation (should now be non-zero)\")\n",
        "print(\"✅ IMPROVED: Jacobian determinant calculation (proper 3D derivatives)\")\n",
        "print(\"✅ ENHANCED: Smoothness scoring (now uses Laplacian)\")\n",
        "print(\"✅ BETTER: Local NCC with overlapping windows\")\n",
        "print(\"✅ ROBUST: Better error handling and fallbacks\")\n",
        "print(\"✅ COMPATIBLE: All original metric names preserved\")\n",
        "print(\"\\nExpected improvements in results:\")\n",
        "print(\"- Gradient Correlation: Should show values instead of 0.0\")\n",
        "print(\"- Smoothness Score: Should show meaningful differences\")\n",
        "print(\"- Jacobian Determinant: Should show more realistic values\")\n",
        "print(\"- Better discrimination between models\")"
      ],
      "metadata": {
        "colab": {
          "base_uri": "https://localhost:8080/"
        },
        "id": "MILdnKOkzlyh",
        "outputId": "03668889-5ba0-404c-e639-5ce97816146c"
      },
      "execution_count": 18,
      "outputs": [
        {
          "output_type": "stream",
          "name": "stdout",
          "text": [
            "Enhanced registration and deformation metrics functions improved and defined!\n",
            "\n",
            "Key improvements while maintaining compatibility:\n",
            "✅ FIXED: Gradient correlation (should now be non-zero)\n",
            "✅ IMPROVED: Jacobian determinant calculation (proper 3D derivatives)\n",
            "✅ ENHANCED: Smoothness scoring (now uses Laplacian)\n",
            "✅ BETTER: Local NCC with overlapping windows\n",
            "✅ ROBUST: Better error handling and fallbacks\n",
            "✅ COMPATIBLE: All original metric names preserved\n",
            "\n",
            "Expected improvements in results:\n",
            "- Gradient Correlation: Should show values instead of 0.0\n",
            "- Smoothness Score: Should show meaningful differences\n",
            "- Jacobian Determinant: Should show more realistic values\n",
            "- Better discrimination between models\n"
          ]
        }
      ]
    },
    {
      "cell_type": "code",
      "source": [
        "# ====================================================================\n",
        "# Cell 6: Data Loading\n",
        "# ====================================================================\n",
        "\n",
        "# Only proceed with data loading if models loaded successfully\n",
        "if loaded_models:\n",
        "    print(\"\\nModels loaded successfully - proceeding with data setup...\")\n",
        "\n",
        "    # Extract tar file and prepare data paths\n",
        "    tar_path = '/content/drive/MyDrive/segmentation-project/neurite-oasis.v1.0.tar'\n",
        "    extract_path = '/content/segmentation_data'\n",
        "    os.makedirs(extract_path, exist_ok=True)\n",
        "\n",
        "    print(\"Setting up data extraction...\")\n",
        "\n",
        "    # Extract if needed\n",
        "    if not os.path.exists(f\"{extract_path}/OASIS_OAS1_0001_MR1\"):\n",
        "        print(\"Extracting data archive...\")\n",
        "        import subprocess\n",
        "        result = subprocess.run(['tar', '-xf', tar_path, '-C', extract_path],\n",
        "                              capture_output=True, text=True)\n",
        "        if result.returncode == 0:\n",
        "            print(\"Data extracted successfully\")\n",
        "        else:\n",
        "            print(f\"Extraction failed: {result.stderr}\")\n",
        "    else:\n",
        "        print(\"Data already extracted\")\n",
        "\n",
        "    # Update paths in seg4_paths_copy.txt\n",
        "    print(\"Updating paths in seg4_paths_copy.txt...\")\n",
        "    try:\n",
        "        with open(\"seg4_paths_copy.txt\", \"r\") as f:\n",
        "            lines = f.readlines()\n",
        "\n",
        "        with open(\"seg4_paths_copy.txt\", \"w\") as f:\n",
        "            for line in lines:\n",
        "                updated = line.replace(\"neurite-oasis.v1.0\", \"segmentation_data\")\n",
        "                f.write(updated)\n",
        "        print(\"Paths updated successfully\")\n",
        "    except FileNotFoundError:\n",
        "        print(\"seg4_paths_copy.txt not found - you may need to create this file\")\n",
        "\n",
        "    # Convert to one-hot format\n",
        "    if os.path.exists(\"convert_one_hot.py\"):\n",
        "        print(\"Converting to one-hot format...\")\n",
        "        import subprocess\n",
        "        result = subprocess.run(['python', 'convert_one_hot.py', '--txt_path', 'seg4_paths_copy.txt'],\n",
        "                              capture_output=True, text=True)\n",
        "        if result.returncode == 0:\n",
        "            print(\"Conversion completed successfully\")\n",
        "        else:\n",
        "            print(f\"Conversion warning/error: {result.stderr}\")\n",
        "    else:\n",
        "        print(\"convert_one_hot.py not found - skipping conversion\")\n",
        "\n",
        "else:\n",
        "    print(\"No models loaded successfully - skipping data loading for now\")\n",
        "    print(\"Fix model loading issues first, then run data loading separately\")"
      ],
      "metadata": {
        "colab": {
          "base_uri": "https://localhost:8080/"
        },
        "id": "7La20XD3z4e-",
        "outputId": "a6bfd424-e3fc-469c-8c40-365c9b1ead1a"
      },
      "execution_count": 6,
      "outputs": [
        {
          "output_type": "stream",
          "name": "stdout",
          "text": [
            "\n",
            "Models loaded successfully - proceeding with data setup...\n",
            "Setting up data extraction...\n",
            "Extracting data archive...\n",
            "Data extracted successfully\n",
            "Updating paths in seg4_paths_copy.txt...\n",
            "Paths updated successfully\n",
            "Converting to one-hot format...\n",
            "Conversion completed successfully\n"
          ]
        }
      ]
    },
    {
      "cell_type": "code",
      "source": [
        "# ====================================================================\n",
        "# Cell 7: Load Test Dataset for Evaluation\n",
        "# ====================================================================\n",
        "\n",
        "if loaded_models:\n",
        "    # Mount Google Drive\n",
        "    try:\n",
        "        from google.colab import drive\n",
        "        if not os.path.exists('/content/drive'):\n",
        "            drive.mount('/content/drive')\n",
        "        print(\"✅ Google Drive mounted\")\n",
        "    except:\n",
        "        print(\"⚠️ Not in Colab or Drive already mounted\")\n",
        "\n",
        "    # Import your data loader\n",
        "    try:\n",
        "        from get_data import SegDataset\n",
        "        print(\"SegDataset imported successfully\")\n",
        "    except ImportError:\n",
        "        print(\"❌ get_data module not found!\")\n",
        "        raise ImportError(\"Cannot proceed without SegDataset\")\n",
        "\n",
        "    # Template path setup\n",
        "    template_path = '/content/segmentation_data/OASIS_OAS1_0016_MR1/seg4_onehot.npy'\n",
        "\n",
        "    # Check if template exists\n",
        "    if not os.path.exists(template_path):\n",
        "        print(\"Template file not found! Trying to find alternative...\")\n",
        "        import glob\n",
        "        possible_templates = glob.glob('/content/segmentation_data/*/seg4_onehot.npy')\n",
        "        if possible_templates:\n",
        "            template_path = possible_templates[0]\n",
        "            print(f\"Using alternative template: {template_path}\")\n",
        "        else:\n",
        "            raise FileNotFoundError(\"No template file found!\")\n",
        "\n",
        "    print(f\"Template file: {template_path}\")\n",
        "\n",
        "    # Load test split from Google Drive\n",
        "    test_split_path = '/content/drive/MyDrive/segmentation-project/test_split.txt'\n",
        "\n",
        "    if os.path.exists(test_split_path):\n",
        "        print(f\"✅ Loading test split from: {test_split_path}\")\n",
        "\n",
        "        # Create test dataset\n",
        "        test_dataset = SegDataset(test_split_path, template_path)\n",
        "        test_loader = DataLoader(test_dataset, batch_size=1, shuffle=False)\n",
        "\n",
        "        print(f\"📊 Test dataset ready: {len(test_dataset)} samples\")\n",
        "        print(\"Ready for evaluation!\")\n",
        "\n",
        "    else:\n",
        "        print(f\"❌ Test split not found at: {test_split_path}\")\n",
        "        print(\"Please run the split creation cell first!\")\n",
        "        raise FileNotFoundError(\"Test split file not found in Google Drive\")\n",
        "\n",
        "else:\n",
        "    print(\"❌ Models not loaded - cannot proceed with evaluation\")\n",
        "    test_dataset = None\n",
        "    test_loader = None"
      ],
      "metadata": {
        "colab": {
          "base_uri": "https://localhost:8080/"
        },
        "id": "fng3RVSLz-AO",
        "outputId": "e8b38d15-e0ee-4c39-ea4e-2d320a89c88f"
      },
      "execution_count": 7,
      "outputs": [
        {
          "output_type": "stream",
          "name": "stdout",
          "text": [
            "✅ Google Drive mounted\n",
            "SegDataset imported successfully\n",
            "Template file: /content/segmentation_data/OASIS_OAS1_0016_MR1/seg4_onehot.npy\n",
            "✅ Loading test split from: /content/drive/MyDrive/segmentation-project/test_split.txt\n",
            "📊 Test dataset ready: 20 samples\n",
            "Ready for evaluation!\n"
          ]
        }
      ]
    },
    {
      "cell_type": "code",
      "source": [
        "# ====================================================================\n",
        "# Cell 8: Enhanced Ablation Study Evaluator Class (FIXED)\n",
        "# ====================================================================\n",
        "\n",
        "class EnhancedAblationStudyEvaluator:\n",
        "    \"\"\"Enhanced ablation study evaluator with comprehensive deformation analysis\"\"\"\n",
        "    def __init__(self, device):\n",
        "        self.device = device\n",
        "        self.results = {}\n",
        "\n",
        "    def evaluate_model(self, model, model_config, test_loader, max_samples=15):\n",
        "        \"\"\"Evaluate a single model with comprehensive metrics\"\"\"\n",
        "        model_name = model_config['name']\n",
        "        model_type = model_config['type']\n",
        "        print(f\"\\n--- Evaluating {model_name} with Enhanced Metrics ---\")\n",
        "\n",
        "        registration_results = []\n",
        "        deformation_results = []\n",
        "        inference_times = []\n",
        "\n",
        "        with torch.no_grad():\n",
        "            for i, batch in enumerate(tqdm(test_loader, desc=f\"Evaluating {model_name}\")):\n",
        "                if i >= max_samples:\n",
        "                    break\n",
        "\n",
        "                try:\n",
        "                    # Extract data with better batch handling and shape debugging\n",
        "                    if isinstance(batch, (list, tuple)) and len(batch) >= 2:\n",
        "                        moving_img = batch[0].to(self.device).float()\n",
        "                        fixed_img = batch[1].to(self.device).float()\n",
        "                    else:\n",
        "                        # Single image batch - create synthetic pair\n",
        "                        img = batch.to(self.device).float() if torch.is_tensor(batch) else batch[0].to(self.device).float()\n",
        "                        moving_img = img\n",
        "                        # Create slight variation for fixed image\n",
        "                        fixed_img = img + torch.randn_like(img) * 0.05\n",
        "\n",
        "                    # Debug shapes before processing\n",
        "                    print(f\"   Sample {i}: moving_img shape = {moving_img.shape}, fixed_img shape = {fixed_img.shape}\")\n",
        "\n",
        "                    # Ensure proper dimensions [B, C, D, H, W]\n",
        "                    if moving_img.dim() == 4:\n",
        "                        moving_img = moving_img.unsqueeze(0)\n",
        "                    if fixed_img.dim() == 4:\n",
        "                        fixed_img = fixed_img.unsqueeze(0)\n",
        "\n",
        "                    # Additional shape validation\n",
        "                    if moving_img.shape[1] != 5 or fixed_img.shape[1] != 5:\n",
        "                        print(f\"   Warning: Expected 5 channels, got moving={moving_img.shape[1]}, fixed={fixed_img.shape[1]}\")\n",
        "                        continue\n",
        "\n",
        "                    # Store originals for comparison\n",
        "                    original_moving = moving_img.clone()\n",
        "                    original_fixed = fixed_img.clone()\n",
        "\n",
        "                    start_time = time.time()\n",
        "\n",
        "                    # Model-specific inference with better error handling\n",
        "                    try:\n",
        "                        if model_type in ['baseline', 'regloss_only']:\n",
        "                            registered_img, deformation_field = model(original_moving, original_fixed)\n",
        "\n",
        "                        elif model_type == 'combined_basic':\n",
        "                            model_outputs = model(original_moving, original_fixed)\n",
        "                            if len(model_outputs) == 4:\n",
        "                                registered_img, affine_matrix, deformation_field, affine_warped = model_outputs\n",
        "                            else:\n",
        "                                registered_img = model_outputs[0]\n",
        "                                deformation_field = model_outputs[2] if len(model_outputs) > 2 else None\n",
        "\n",
        "                        elif model_type == 'combined_enhanced':\n",
        "                            model_outputs = model(original_moving, original_fixed)\n",
        "                            if len(model_outputs) == 4:\n",
        "                                registered_img, affine_matrix, deformation_field, affine_warped = model_outputs\n",
        "                            else:\n",
        "                                registered_img = model_outputs[0]\n",
        "                                deformation_field = model_outputs[2] if len(model_outputs) > 2 else None\n",
        "\n",
        "                    except RuntimeError as model_error:\n",
        "                        if \"size mismatch\" in str(model_error) or \"shape\" in str(model_error):\n",
        "                            print(f\"   Shape error for sample {i}: {str(model_error)}\")\n",
        "                            print(f\"   Input shapes: moving={original_moving.shape}, fixed={original_fixed.shape}\")\n",
        "                        else:\n",
        "                            print(f\"   Model inference error for sample {i}: {str(model_error)}\")\n",
        "                        continue\n",
        "\n",
        "                    inference_time = time.time() - start_time\n",
        "                    inference_times.append(inference_time)\n",
        "\n",
        "                    # Compute comprehensive registration metrics using the enhanced function\n",
        "                    reg_metrics = compute_enhanced_registration_metrics(\n",
        "                        original_moving, original_fixed, registered_img\n",
        "                    )\n",
        "                    registration_results.append(reg_metrics)\n",
        "\n",
        "                    # Compute comprehensive deformation field analysis\n",
        "                    deform_metrics = compute_enhanced_deformation_metrics(deformation_field)\n",
        "                    deformation_results.append(deform_metrics)\n",
        "\n",
        "                except Exception as e:\n",
        "                    print(f\"   Error processing sample {i}: {str(e)}\")\n",
        "                    continue\n",
        "\n",
        "        # Aggregate enhanced results\n",
        "        if registration_results:\n",
        "            def safe_stats(values):\n",
        "                if not values or all(v is None or np.isnan(v) for v in values):\n",
        "                    return 0.0, 0.0\n",
        "                clean_values = [v for v in values if v is not None and not np.isnan(v)]\n",
        "                if not clean_values:\n",
        "                    return 0.0, 0.0\n",
        "                return float(np.mean(clean_values)), float(np.std(clean_values))\n",
        "\n",
        "            # Enhanced registration metrics\n",
        "            mse_improvements = [r.get('mse_improvement', 0) for r in registration_results]\n",
        "            ncc_improvements = [r.get('ncc_improvement', 0) for r in registration_results]  # Keep basic NCC\n",
        "            local_ncc_improvements = [r.get('local_ncc_improvement', 0) for r in registration_results]\n",
        "            gradient_correlations = [r.get('gradient_correlation', 0) for r in registration_results]\n",
        "            mutual_informations = [r.get('mutual_information', 0) for r in registration_results]\n",
        "            local_ssims = [r.get('local_ssim_mean', 0) for r in registration_results]\n",
        "            ssim_improvements = [r.get('ssim_improvement', 0) for r in registration_results]  # Keep basic SSIM\n",
        "\n",
        "            # Enhanced deformation metrics\n",
        "            jacobian_means = [d.get('jacobian_determinant_mean', 1.0) for d in deformation_results]\n",
        "            jacobian_stds = [d.get('jacobian_determinant_std', 0.0) for d in deformation_results]\n",
        "            negative_jac_ratios = [d.get('negative_jacobian_ratio', 0.0) for d in deformation_results]\n",
        "            folding_counts = [d.get('folding_count', 0) for d in deformation_results]\n",
        "            smoothness_scores = [d.get('smoothness_score', 0.0) for d in deformation_results]\n",
        "            rigidity_scores = [d.get('local_rigidity_score', 0.0) for d in deformation_results]\n",
        "            boundary_scores = [d.get('boundary_preservation_score', 0.0) for d in deformation_results]\n",
        "            plausibility_scores = [d.get('anatomical_plausibility_score', 0.0) for d in deformation_results]\n",
        "            max_displacements = [d.get('deformation_magnitude_distribution', [0]*5)[-1] for d in deformation_results]\n",
        "            mean_displacements = [d.get('mean_displacement', 0) for d in deformation_results]\n",
        "\n",
        "            aggregated_results = {\n",
        "                'model_name': model_name,\n",
        "                'model_type': model_type,\n",
        "                'n_samples': len(registration_results),\n",
        "\n",
        "                # Enhanced registration metrics (combining basic + enhanced)\n",
        "                'registration_metrics': {\n",
        "                    'mse_improvement_mean': safe_stats(mse_improvements)[0],\n",
        "                    'mse_improvement_std': safe_stats(mse_improvements)[1],\n",
        "                    'ncc_improvement_mean': safe_stats(ncc_improvements)[0],\n",
        "                    'ncc_improvement_std': safe_stats(ncc_improvements)[1],\n",
        "                    'ssim_improvement_mean': safe_stats(ssim_improvements)[0],\n",
        "                    'ssim_improvement_std': safe_stats(ssim_improvements)[1],\n",
        "                    'local_ncc_improvement_mean': safe_stats(local_ncc_improvements)[0],\n",
        "                    'local_ncc_improvement_std': safe_stats(local_ncc_improvements)[1],\n",
        "                    'gradient_correlation_mean': safe_stats(gradient_correlations)[0],\n",
        "                    'gradient_correlation_std': safe_stats(gradient_correlations)[1],\n",
        "                    'mutual_information_mean': safe_stats(mutual_informations)[0],\n",
        "                    'mutual_information_std': safe_stats(mutual_informations)[1],\n",
        "                    'local_ssim_mean': safe_stats(local_ssims)[0],\n",
        "                    'local_ssim_std': safe_stats(local_ssims)[1]\n",
        "                },\n",
        "\n",
        "                # Enhanced deformation quality metrics\n",
        "                'deformation_quality': {\n",
        "                    'jacobian_determinant_mean': safe_stats(jacobian_means)[0],\n",
        "                    'jacobian_determinant_std': safe_stats(jacobian_stds)[0],\n",
        "                    'negative_jacobian_ratio_mean': safe_stats(negative_jac_ratios)[0],\n",
        "                    'folding_count_mean': safe_stats(folding_counts)[0],\n",
        "                    'smoothness_score_mean': safe_stats(smoothness_scores)[0],\n",
        "                    'smoothness_score_std': safe_stats(smoothness_scores)[1],\n",
        "                    'local_rigidity_mean': safe_stats(rigidity_scores)[0],\n",
        "                    'boundary_preservation_mean': safe_stats(boundary_scores)[0],\n",
        "                    'anatomical_plausibility_mean': safe_stats(plausibility_scores)[0],\n",
        "                    'max_displacement_mean': safe_stats(max_displacements)[0],\n",
        "                    'max_displacement_std': safe_stats(max_displacements)[1]\n",
        "                },\n",
        "\n",
        "                # Maintain compatibility with original deformation_metrics for visualization\n",
        "                'deformation_metrics': {\n",
        "                    'max_displacement_mean': safe_stats(max_displacements)[0],\n",
        "                    'max_displacement_std': safe_stats(max_displacements)[1],\n",
        "                    'mean_displacement_mean': safe_stats(mean_displacements)[0],\n",
        "                    'mean_displacement_std': safe_stats(mean_displacements)[1]\n",
        "                },\n",
        "\n",
        "                'computational_metrics': {\n",
        "                    'inference_time_mean': float(np.mean(inference_times)) if inference_times else 0.0,\n",
        "                    'inference_time_std': float(np.std(inference_times)) if inference_times else 0.0,\n",
        "                },\n",
        "                'raw_results': {\n",
        "                    'registration': registration_results,\n",
        "                    'deformation': deformation_results,\n",
        "                    'inference_times': inference_times\n",
        "                }\n",
        "            }\n",
        "\n",
        "            print(f\"   Completed: {len(registration_results)} samples processed\")\n",
        "            print(f\"   MSE improvement: {aggregated_results['registration_metrics']['mse_improvement_mean']:.3f} ± {aggregated_results['registration_metrics']['mse_improvement_std']:.3f}\")\n",
        "            print(f\"   Local NCC improvement: {aggregated_results['registration_metrics']['local_ncc_improvement_mean']:.4f} ± {aggregated_results['registration_metrics']['local_ncc_improvement_std']:.4f}\")\n",
        "            print(f\"   Jacobian Det (topology): {aggregated_results['deformation_quality']['jacobian_determinant_mean']:.3f}\")\n",
        "            print(f\"   Negative Jacobians: {aggregated_results['deformation_quality']['negative_jacobian_ratio_mean']:.1%}\")\n",
        "            print(f\"   Anatomical Plausibility: {aggregated_results['deformation_quality']['anatomical_plausibility_mean']:.3f}\")\n",
        "            print(f\"   Deformation Smoothness: {aggregated_results['deformation_quality']['smoothness_score_mean']:.3f}\")\n",
        "\n",
        "            return aggregated_results\n",
        "        else:\n",
        "            print(f\"   No successful evaluations for {model_name}\")\n",
        "            return None\n",
        "\n",
        "    def run_ablation_study(self, model_configs, test_loader, max_samples=15):\n",
        "        \"\"\"Run complete ablation study with enhanced metrics\"\"\"\n",
        "        print(\"\\n\" + \"=\"*80)\n",
        "        print(\"ENHANCED ABLATION STUDY: COMPREHENSIVE REGISTRATION ANALYSIS\")\n",
        "        print(\"=\"*80)\n",
        "\n",
        "        all_results = {}\n",
        "        successful_evaluations = 0\n",
        "\n",
        "        for config in model_configs:\n",
        "            if 'model' in config:\n",
        "                try:\n",
        "                    result = self.evaluate_model(config['model'], config, test_loader, max_samples)\n",
        "                    if result:\n",
        "                        all_results[config['name']] = result\n",
        "                        successful_evaluations += 1\n",
        "                        print(f\"✅ {config['name']}: Enhanced evaluation completed successfully\")\n",
        "                    else:\n",
        "                        print(f\"❌ {config['name']}: Evaluation failed\")\n",
        "                except Exception as e:\n",
        "                    print(f\"❌ {config['name']}: Exception during evaluation - {str(e)}\")\n",
        "            else:\n",
        "                print(f\"⭐ {config['name']}: Model not loaded, skipping\")\n",
        "\n",
        "        print(f\"\\nEnhanced ablation study completed! {successful_evaluations}/{len(model_configs)} models evaluated successfully.\")\n",
        "\n",
        "        # Print enhanced comparison\n",
        "        if all_results:\n",
        "            print(\"\\n\" + \"=\"*80)\n",
        "            print(\"ENHANCED METRICS COMPARISON\")\n",
        "            print(\"=\"*80)\n",
        "\n",
        "            for name, result in all_results.items():\n",
        "                reg = result['registration_metrics']\n",
        "                deform = result['deformation_quality']\n",
        "                print(f\"\\n{name}:\")\n",
        "                print(f\"  Registration Quality:\")\n",
        "                print(f\"    MSE Improvement: {reg['mse_improvement_mean']:.4f} ± {reg['mse_improvement_std']:.4f}\")\n",
        "                print(f\"    Local NCC Improvement: {reg['local_ncc_improvement_mean']:.4f} ± {reg['local_ncc_improvement_std']:.4f}\")\n",
        "                print(f\"    Gradient Correlation: {reg['gradient_correlation_mean']:.4f}\")\n",
        "                print(f\"    Mutual Information: {reg['mutual_information_mean']:.4f}\")\n",
        "                print(f\"  Deformation Quality:\")\n",
        "                print(f\"    Jacobian Determinant: {deform['jacobian_determinant_mean']:.4f} (folding={deform['negative_jacobian_ratio_mean']:.1%})\")\n",
        "                print(f\"    Smoothness Score: {deform['smoothness_score_mean']:.4f}\")\n",
        "                print(f\"    Anatomical Plausibility: {deform['anatomical_plausibility_mean']:.4f}\")\n",
        "                print(f\"    Local Rigidity: {deform['local_rigidity_mean']:.4f}\")\n",
        "                print(f\"    Boundary Preservation: {deform['boundary_preservation_mean']:.4f}\")\n",
        "\n",
        "        self.results = all_results\n",
        "        return all_results\n",
        "\n",
        "\n",
        "print(\"Enhanced Ablation Study Evaluator defined successfully!\")"
      ],
      "metadata": {
        "colab": {
          "base_uri": "https://localhost:8080/"
        },
        "id": "sJrSBYUT0E5C",
        "outputId": "17212415-eecb-459c-a863-6c28d0d41acb"
      },
      "execution_count": 19,
      "outputs": [
        {
          "output_type": "stream",
          "name": "stdout",
          "text": [
            "Enhanced Ablation Study Evaluator defined successfully!\n"
          ]
        }
      ]
    },
    {
      "cell_type": "code",
      "source": [
        "# ====================================================================\n",
        "# Cell 9: Run Enhanced Model Evaluation\n",
        "# ====================================================================\n",
        "\n",
        "if loaded_models:\n",
        "    print(f\"\\nStarting ENHANCED ablation study with {len(loaded_models)} loaded models...\")\n",
        "\n",
        "    # Create enhanced evaluator\n",
        "    enhanced_evaluator = EnhancedAblationStudyEvaluator(device)\n",
        "\n",
        "    # Run enhanced evaluation\n",
        "    enhanced_ablation_results = enhanced_evaluator.run_ablation_study(loaded_models, test_loader, max_samples=len(test_loader))\n",
        "\n",
        "    if enhanced_ablation_results:\n",
        "        print(f\"\\nEnhanced ablation study completed! {len(enhanced_ablation_results)} models evaluated.\")\n",
        "\n",
        "        # Enhanced results summary\n",
        "        print(\"\\nENHANCED RESULTS SUMMARY:\")\n",
        "        print(\"-\" * 80)\n",
        "        print(f\"{'Model':<25} {'MSE↑':<8} {'NCC↑':<8} {'JacDet':<8} {'Smooth':<8} {'Plausible':<10} {'Time(ms)':<10}\")\n",
        "        print(\"-\" * 80)\n",
        "\n",
        "        for name, results in enhanced_ablation_results.items():\n",
        "            reg = results['registration_metrics']\n",
        "            deform = results['deformation_quality']\n",
        "            comp = results['computational_metrics']\n",
        "\n",
        "            print(f\"{name:<25} \"\n",
        "                  f\"{reg['mse_improvement_mean']:+.3f}   \"\n",
        "                  f\"{reg['local_ncc_improvement_mean']:+.3f}   \"\n",
        "                  f\"{deform['jacobian_determinant_mean']:6.3f}  \"\n",
        "                  f\"{deform['smoothness_score_mean']:6.3f}  \"\n",
        "                  f\"{deform['anatomical_plausibility_mean']:8.3f}  \"\n",
        "                  f\"{comp['inference_time_mean']*1000:8.1f}\")\n",
        "\n",
        "        print(\"-\" * 80)\n",
        "\n",
        "        # Key insights from enhanced metrics\n",
        "        print(\"\\nKEY INSIGHTS FROM ENHANCED ANALYSIS:\")\n",
        "        print(\"=\" * 60)\n",
        "\n",
        "        # Find models with best deformation quality\n",
        "        best_topology = max(enhanced_ablation_results.items(),\n",
        "                          key=lambda x: x[1]['deformation_quality']['jacobian_determinant_mean'])\n",
        "        best_smoothness = max(enhanced_ablation_results.items(),\n",
        "                            key=lambda x: x[1]['deformation_quality']['smoothness_score_mean'])\n",
        "        best_plausibility = max(enhanced_ablation_results.items(),\n",
        "                              key=lambda x: x[1]['deformation_quality']['anatomical_plausibility_mean'])\n",
        "\n",
        "        print(f\"🏆 Best Topology Preservation: {best_topology[0]} (JacDet: {best_topology[1]['deformation_quality']['jacobian_determinant_mean']:.3f})\")\n",
        "        print(f\"🏆 Best Deformation Smoothness: {best_smoothness[0]} (Score: {best_smoothness[1]['deformation_quality']['smoothness_score_mean']:.3f})\")\n",
        "        print(f\"🏆 Best Anatomical Plausibility: {best_plausibility[0]} (Score: {best_plausibility[1]['deformation_quality']['anatomical_plausibility_mean']:.3f})\")\n",
        "\n",
        "        # Analysis of regularization impact\n",
        "        baseline_results = None\n",
        "        enhanced_results = None\n",
        "\n",
        "        for name, result in enhanced_ablation_results.items():\n",
        "            if 'baseline' in result['model_type'].lower():\n",
        "                baseline_results = result\n",
        "            elif 'enhanced' in result['model_type'].lower():\n",
        "                enhanced_results = result\n",
        "\n",
        "        if baseline_results and enhanced_results:\n",
        "            print(f\"\\nREGULARIZATION IMPACT ANALYSIS:\")\n",
        "            print(f\"Topology Preservation Improvement: {enhanced_results['deformation_quality']['jacobian_determinant_mean'] - baseline_results['deformation_quality']['jacobian_determinant_mean']:+.3f}\")\n",
        "            print(f\"Smoothness Improvement: {enhanced_results['deformation_quality']['smoothness_score_mean'] - baseline_results['deformation_quality']['smoothness_score_mean']:+.3f}\")\n",
        "            print(f\"Anatomical Plausibility Improvement: {enhanced_results['deformation_quality']['anatomical_plausibility_mean'] - baseline_results['deformation_quality']['anatomical_plausibility_mean']:+.3f}\")\n",
        "\n",
        "            folding_reduction = baseline_results['deformation_quality']['negative_jacobian_ratio_mean'] - enhanced_results['deformation_quality']['negative_jacobian_ratio_mean']\n",
        "            print(f\"Folding Reduction: {folding_reduction:.1%}\")\n",
        "\n",
        "        # Store enhanced results for visualization\n",
        "        ablation_results = enhanced_ablation_results\n",
        "\n",
        "    else:\n",
        "        print(\"No models were successfully evaluated with enhanced metrics.\")\n",
        "else:\n",
        "    print(\"No models loaded successfully. Cannot run enhanced ablation study.\")\n",
        "    enhanced_ablation_results = {}\n",
        "\n",
        "print(\"\\nEnhanced evaluation complete! Now you can see the detailed differences between models.\")"
      ],
      "metadata": {
        "colab": {
          "base_uri": "https://localhost:8080/"
        },
        "id": "6vl9LflW0KlU",
        "outputId": "672a28e9-250c-41ef-b43f-df3de30c40d2"
      },
      "execution_count": 20,
      "outputs": [
        {
          "output_type": "stream",
          "name": "stdout",
          "text": [
            "\n",
            "Starting ENHANCED ablation study with 4 loaded models...\n",
            "\n",
            "================================================================================\n",
            "ENHANCED ABLATION STUDY: COMPREHENSIVE REGISTRATION ANALYSIS\n",
            "================================================================================\n",
            "\n",
            "--- Evaluating Baseline UNet with Enhanced Metrics ---\n"
          ]
        },
        {
          "output_type": "stream",
          "name": "stderr",
          "text": [
            "\rEvaluating Baseline UNet:   0%|          | 0/20 [00:00<?, ?it/s]"
          ]
        },
        {
          "output_type": "stream",
          "name": "stdout",
          "text": [
            "   Sample 0: moving_img shape = torch.Size([1, 5, 128, 128, 128]), fixed_img shape = torch.Size([1, 5, 128, 128, 128])\n"
          ]
        },
        {
          "output_type": "stream",
          "name": "stderr",
          "text": [
            "\rEvaluating Baseline UNet:   5%|▌         | 1/20 [00:33<10:28, 33.07s/it]"
          ]
        },
        {
          "output_type": "stream",
          "name": "stdout",
          "text": [
            "   Sample 1: moving_img shape = torch.Size([1, 5, 128, 128, 128]), fixed_img shape = torch.Size([1, 5, 128, 128, 128])\n"
          ]
        },
        {
          "output_type": "stream",
          "name": "stderr",
          "text": [
            "\rEvaluating Baseline UNet:  10%|█         | 2/20 [01:04<09:36, 32.04s/it]"
          ]
        },
        {
          "output_type": "stream",
          "name": "stdout",
          "text": [
            "   Sample 2: moving_img shape = torch.Size([1, 5, 128, 128, 128]), fixed_img shape = torch.Size([1, 5, 128, 128, 128])\n"
          ]
        },
        {
          "output_type": "stream",
          "name": "stderr",
          "text": [
            "\rEvaluating Baseline UNet:  15%|█▌        | 3/20 [01:34<08:51, 31.24s/it]"
          ]
        },
        {
          "output_type": "stream",
          "name": "stdout",
          "text": [
            "   Sample 3: moving_img shape = torch.Size([1, 5, 128, 128, 128]), fixed_img shape = torch.Size([1, 5, 128, 128, 128])\n"
          ]
        },
        {
          "output_type": "stream",
          "name": "stderr",
          "text": [
            "\rEvaluating Baseline UNet:  20%|██        | 4/20 [02:05<08:15, 30.96s/it]"
          ]
        },
        {
          "output_type": "stream",
          "name": "stdout",
          "text": [
            "   Sample 4: moving_img shape = torch.Size([1, 5, 128, 128, 128]), fixed_img shape = torch.Size([1, 5, 128, 128, 128])\n"
          ]
        },
        {
          "output_type": "stream",
          "name": "stderr",
          "text": [
            "\rEvaluating Baseline UNet:  25%|██▌       | 5/20 [02:36<07:45, 31.00s/it]"
          ]
        },
        {
          "output_type": "stream",
          "name": "stdout",
          "text": [
            "   Sample 5: moving_img shape = torch.Size([1, 5, 128, 128, 128]), fixed_img shape = torch.Size([1, 5, 128, 128, 128])\n"
          ]
        },
        {
          "output_type": "stream",
          "name": "stderr",
          "text": [
            "\rEvaluating Baseline UNet:  30%|███       | 6/20 [03:06<07:09, 30.69s/it]"
          ]
        },
        {
          "output_type": "stream",
          "name": "stdout",
          "text": [
            "   Sample 6: moving_img shape = torch.Size([1, 5, 128, 128, 128]), fixed_img shape = torch.Size([1, 5, 128, 128, 128])\n"
          ]
        },
        {
          "output_type": "stream",
          "name": "stderr",
          "text": [
            "\rEvaluating Baseline UNet:  35%|███▌      | 7/20 [03:37<06:39, 30.75s/it]"
          ]
        },
        {
          "output_type": "stream",
          "name": "stdout",
          "text": [
            "   Sample 7: moving_img shape = torch.Size([1, 5, 128, 128, 128]), fixed_img shape = torch.Size([1, 5, 128, 128, 128])\n"
          ]
        },
        {
          "output_type": "stream",
          "name": "stderr",
          "text": [
            "\rEvaluating Baseline UNet:  40%|████      | 8/20 [04:07<06:08, 30.71s/it]"
          ]
        },
        {
          "output_type": "stream",
          "name": "stdout",
          "text": [
            "   Sample 8: moving_img shape = torch.Size([1, 5, 128, 128, 128]), fixed_img shape = torch.Size([1, 5, 128, 128, 128])\n"
          ]
        },
        {
          "output_type": "stream",
          "name": "stderr",
          "text": [
            "\rEvaluating Baseline UNet:  45%|████▌     | 9/20 [04:37<05:35, 30.47s/it]"
          ]
        },
        {
          "output_type": "stream",
          "name": "stdout",
          "text": [
            "   Sample 9: moving_img shape = torch.Size([1, 5, 128, 128, 128]), fixed_img shape = torch.Size([1, 5, 128, 128, 128])\n"
          ]
        },
        {
          "output_type": "stream",
          "name": "stderr",
          "text": [
            "\rEvaluating Baseline UNet:  50%|█████     | 10/20 [05:07<05:03, 30.32s/it]"
          ]
        },
        {
          "output_type": "stream",
          "name": "stdout",
          "text": [
            "   Sample 10: moving_img shape = torch.Size([1, 5, 128, 128, 128]), fixed_img shape = torch.Size([1, 5, 128, 128, 128])\n"
          ]
        },
        {
          "output_type": "stream",
          "name": "stderr",
          "text": [
            "\rEvaluating Baseline UNet:  55%|█████▌    | 11/20 [05:47<04:58, 33.21s/it]"
          ]
        },
        {
          "output_type": "stream",
          "name": "stdout",
          "text": [
            "   Sample 11: moving_img shape = torch.Size([1, 5, 128, 128, 128]), fixed_img shape = torch.Size([1, 5, 128, 128, 128])\n"
          ]
        },
        {
          "output_type": "stream",
          "name": "stderr",
          "text": [
            "\rEvaluating Baseline UNet:  60%|██████    | 12/20 [06:19<04:22, 32.77s/it]"
          ]
        },
        {
          "output_type": "stream",
          "name": "stdout",
          "text": [
            "   Sample 12: moving_img shape = torch.Size([1, 5, 128, 128, 128]), fixed_img shape = torch.Size([1, 5, 128, 128, 128])\n"
          ]
        },
        {
          "output_type": "stream",
          "name": "stderr",
          "text": [
            "\rEvaluating Baseline UNet:  65%|██████▌   | 13/20 [06:49<03:44, 32.06s/it]"
          ]
        },
        {
          "output_type": "stream",
          "name": "stdout",
          "text": [
            "   Sample 13: moving_img shape = torch.Size([1, 5, 128, 128, 128]), fixed_img shape = torch.Size([1, 5, 128, 128, 128])\n"
          ]
        },
        {
          "output_type": "stream",
          "name": "stderr",
          "text": [
            "\rEvaluating Baseline UNet:  70%|███████   | 14/20 [07:19<03:08, 31.49s/it]"
          ]
        },
        {
          "output_type": "stream",
          "name": "stdout",
          "text": [
            "   Sample 14: moving_img shape = torch.Size([1, 5, 128, 128, 128]), fixed_img shape = torch.Size([1, 5, 128, 128, 128])\n"
          ]
        },
        {
          "output_type": "stream",
          "name": "stderr",
          "text": [
            "\rEvaluating Baseline UNet:  75%|███████▌  | 15/20 [07:51<02:37, 31.56s/it]"
          ]
        },
        {
          "output_type": "stream",
          "name": "stdout",
          "text": [
            "   Sample 15: moving_img shape = torch.Size([1, 5, 128, 128, 128]), fixed_img shape = torch.Size([1, 5, 128, 128, 128])\n"
          ]
        },
        {
          "output_type": "stream",
          "name": "stderr",
          "text": [
            "\rEvaluating Baseline UNet:  80%|████████  | 16/20 [08:22<02:04, 31.24s/it]"
          ]
        },
        {
          "output_type": "stream",
          "name": "stdout",
          "text": [
            "   Sample 16: moving_img shape = torch.Size([1, 5, 128, 128, 128]), fixed_img shape = torch.Size([1, 5, 128, 128, 128])\n"
          ]
        },
        {
          "output_type": "stream",
          "name": "stderr",
          "text": [
            "\rEvaluating Baseline UNet:  85%|████████▌ | 17/20 [08:52<01:33, 31.05s/it]"
          ]
        },
        {
          "output_type": "stream",
          "name": "stdout",
          "text": [
            "   Sample 17: moving_img shape = torch.Size([1, 5, 128, 128, 128]), fixed_img shape = torch.Size([1, 5, 128, 128, 128])\n"
          ]
        },
        {
          "output_type": "stream",
          "name": "stderr",
          "text": [
            "\rEvaluating Baseline UNet:  90%|█████████ | 18/20 [09:23<01:02, 31.11s/it]"
          ]
        },
        {
          "output_type": "stream",
          "name": "stdout",
          "text": [
            "   Sample 18: moving_img shape = torch.Size([1, 5, 128, 128, 128]), fixed_img shape = torch.Size([1, 5, 128, 128, 128])\n"
          ]
        },
        {
          "output_type": "stream",
          "name": "stderr",
          "text": [
            "\rEvaluating Baseline UNet:  95%|█████████▌| 19/20 [09:54<00:30, 30.78s/it]"
          ]
        },
        {
          "output_type": "stream",
          "name": "stdout",
          "text": [
            "   Sample 19: moving_img shape = torch.Size([1, 5, 128, 128, 128]), fixed_img shape = torch.Size([1, 5, 128, 128, 128])\n"
          ]
        },
        {
          "output_type": "stream",
          "name": "stderr",
          "text": [
            "Evaluating Baseline UNet: 100%|██████████| 20/20 [10:24<00:00, 31.22s/it]\n"
          ]
        },
        {
          "output_type": "stream",
          "name": "stdout",
          "text": [
            "   Completed: 20 samples processed\n",
            "   MSE improvement: 0.018 ± 0.004\n",
            "   Local NCC improvement: 0.0555 ± 0.0115\n",
            "   Jacobian Det (topology): 0.993\n",
            "   Negative Jacobians: 6.4%\n",
            "   Anatomical Plausibility: 0.596\n",
            "   Deformation Smoothness: 0.026\n",
            "✅ Baseline UNet: Enhanced evaluation completed successfully\n",
            "\n",
            "--- Evaluating RegLoss UNet with Enhanced Metrics ---\n"
          ]
        },
        {
          "output_type": "stream",
          "name": "stderr",
          "text": [
            "\rEvaluating RegLoss UNet:   0%|          | 0/20 [00:00<?, ?it/s]"
          ]
        },
        {
          "output_type": "stream",
          "name": "stdout",
          "text": [
            "   Sample 0: moving_img shape = torch.Size([1, 5, 128, 128, 128]), fixed_img shape = torch.Size([1, 5, 128, 128, 128])\n"
          ]
        },
        {
          "output_type": "stream",
          "name": "stderr",
          "text": [
            "\rEvaluating RegLoss UNet:   5%|▌         | 1/20 [00:32<10:09, 32.08s/it]"
          ]
        },
        {
          "output_type": "stream",
          "name": "stdout",
          "text": [
            "   Sample 1: moving_img shape = torch.Size([1, 5, 128, 128, 128]), fixed_img shape = torch.Size([1, 5, 128, 128, 128])\n"
          ]
        },
        {
          "output_type": "stream",
          "name": "stderr",
          "text": [
            "\rEvaluating RegLoss UNet:  10%|█         | 2/20 [01:03<09:30, 31.71s/it]"
          ]
        },
        {
          "output_type": "stream",
          "name": "stdout",
          "text": [
            "   Sample 2: moving_img shape = torch.Size([1, 5, 128, 128, 128]), fixed_img shape = torch.Size([1, 5, 128, 128, 128])\n"
          ]
        },
        {
          "output_type": "stream",
          "name": "stderr",
          "text": [
            "\rEvaluating RegLoss UNet:  15%|█▌        | 3/20 [01:34<08:52, 31.31s/it]"
          ]
        },
        {
          "output_type": "stream",
          "name": "stdout",
          "text": [
            "   Sample 3: moving_img shape = torch.Size([1, 5, 128, 128, 128]), fixed_img shape = torch.Size([1, 5, 128, 128, 128])\n"
          ]
        },
        {
          "output_type": "stream",
          "name": "stderr",
          "text": [
            "\rEvaluating RegLoss UNet:  20%|██        | 4/20 [02:05<08:16, 31.05s/it]"
          ]
        },
        {
          "output_type": "stream",
          "name": "stdout",
          "text": [
            "   Sample 4: moving_img shape = torch.Size([1, 5, 128, 128, 128]), fixed_img shape = torch.Size([1, 5, 128, 128, 128])\n"
          ]
        },
        {
          "output_type": "stream",
          "name": "stderr",
          "text": [
            "\rEvaluating RegLoss UNet:  25%|██▌       | 5/20 [02:35<07:42, 30.85s/it]"
          ]
        },
        {
          "output_type": "stream",
          "name": "stdout",
          "text": [
            "   Sample 5: moving_img shape = torch.Size([1, 5, 128, 128, 128]), fixed_img shape = torch.Size([1, 5, 128, 128, 128])\n"
          ]
        },
        {
          "output_type": "stream",
          "name": "stderr",
          "text": [
            "\rEvaluating RegLoss UNet:  30%|███       | 6/20 [03:07<07:15, 31.12s/it]"
          ]
        },
        {
          "output_type": "stream",
          "name": "stdout",
          "text": [
            "   Sample 6: moving_img shape = torch.Size([1, 5, 128, 128, 128]), fixed_img shape = torch.Size([1, 5, 128, 128, 128])\n"
          ]
        },
        {
          "output_type": "stream",
          "name": "stderr",
          "text": [
            "\rEvaluating RegLoss UNet:  35%|███▌      | 7/20 [03:37<06:43, 31.00s/it]"
          ]
        },
        {
          "output_type": "stream",
          "name": "stdout",
          "text": [
            "   Sample 7: moving_img shape = torch.Size([1, 5, 128, 128, 128]), fixed_img shape = torch.Size([1, 5, 128, 128, 128])\n"
          ]
        },
        {
          "output_type": "stream",
          "name": "stderr",
          "text": [
            "\rEvaluating RegLoss UNet:  40%|████      | 8/20 [04:08<06:09, 30.79s/it]"
          ]
        },
        {
          "output_type": "stream",
          "name": "stdout",
          "text": [
            "   Sample 8: moving_img shape = torch.Size([1, 5, 128, 128, 128]), fixed_img shape = torch.Size([1, 5, 128, 128, 128])\n"
          ]
        },
        {
          "output_type": "stream",
          "name": "stderr",
          "text": [
            "\rEvaluating RegLoss UNet:  45%|████▌     | 9/20 [04:38<05:38, 30.77s/it]"
          ]
        },
        {
          "output_type": "stream",
          "name": "stdout",
          "text": [
            "   Sample 9: moving_img shape = torch.Size([1, 5, 128, 128, 128]), fixed_img shape = torch.Size([1, 5, 128, 128, 128])\n"
          ]
        },
        {
          "output_type": "stream",
          "name": "stderr",
          "text": [
            "\rEvaluating RegLoss UNet:  50%|█████     | 10/20 [05:08<05:03, 30.39s/it]"
          ]
        },
        {
          "output_type": "stream",
          "name": "stdout",
          "text": [
            "   Sample 10: moving_img shape = torch.Size([1, 5, 128, 128, 128]), fixed_img shape = torch.Size([1, 5, 128, 128, 128])\n"
          ]
        },
        {
          "output_type": "stream",
          "name": "stderr",
          "text": [
            "\rEvaluating RegLoss UNet:  55%|█████▌    | 11/20 [05:52<05:09, 34.40s/it]"
          ]
        },
        {
          "output_type": "stream",
          "name": "stdout",
          "text": [
            "   Sample 11: moving_img shape = torch.Size([1, 5, 128, 128, 128]), fixed_img shape = torch.Size([1, 5, 128, 128, 128])\n"
          ]
        },
        {
          "output_type": "stream",
          "name": "stderr",
          "text": [
            "\rEvaluating RegLoss UNet:  60%|██████    | 12/20 [06:21<04:24, 33.01s/it]"
          ]
        },
        {
          "output_type": "stream",
          "name": "stdout",
          "text": [
            "   Sample 12: moving_img shape = torch.Size([1, 5, 128, 128, 128]), fixed_img shape = torch.Size([1, 5, 128, 128, 128])\n"
          ]
        },
        {
          "output_type": "stream",
          "name": "stderr",
          "text": [
            "\rEvaluating RegLoss UNet:  65%|██████▌   | 13/20 [06:51<03:43, 31.97s/it]"
          ]
        },
        {
          "output_type": "stream",
          "name": "stdout",
          "text": [
            "   Sample 13: moving_img shape = torch.Size([1, 5, 128, 128, 128]), fixed_img shape = torch.Size([1, 5, 128, 128, 128])\n"
          ]
        },
        {
          "output_type": "stream",
          "name": "stderr",
          "text": [
            "\rEvaluating RegLoss UNet:  70%|███████   | 14/20 [07:21<03:07, 31.25s/it]"
          ]
        },
        {
          "output_type": "stream",
          "name": "stdout",
          "text": [
            "   Sample 14: moving_img shape = torch.Size([1, 5, 128, 128, 128]), fixed_img shape = torch.Size([1, 5, 128, 128, 128])\n"
          ]
        },
        {
          "output_type": "stream",
          "name": "stderr",
          "text": [
            "\rEvaluating RegLoss UNet:  75%|███████▌  | 15/20 [07:50<02:33, 30.61s/it]"
          ]
        },
        {
          "output_type": "stream",
          "name": "stdout",
          "text": [
            "   Sample 15: moving_img shape = torch.Size([1, 5, 128, 128, 128]), fixed_img shape = torch.Size([1, 5, 128, 128, 128])\n"
          ]
        },
        {
          "output_type": "stream",
          "name": "stderr",
          "text": [
            "\rEvaluating RegLoss UNet:  80%|████████  | 16/20 [08:19<02:00, 30.21s/it]"
          ]
        },
        {
          "output_type": "stream",
          "name": "stdout",
          "text": [
            "   Sample 16: moving_img shape = torch.Size([1, 5, 128, 128, 128]), fixed_img shape = torch.Size([1, 5, 128, 128, 128])\n"
          ]
        },
        {
          "output_type": "stream",
          "name": "stderr",
          "text": [
            "\rEvaluating RegLoss UNet:  85%|████████▌ | 17/20 [08:48<01:29, 29.85s/it]"
          ]
        },
        {
          "output_type": "stream",
          "name": "stdout",
          "text": [
            "   Sample 17: moving_img shape = torch.Size([1, 5, 128, 128, 128]), fixed_img shape = torch.Size([1, 5, 128, 128, 128])\n"
          ]
        },
        {
          "output_type": "stream",
          "name": "stderr",
          "text": [
            "\rEvaluating RegLoss UNet:  90%|█████████ | 18/20 [09:18<01:00, 30.03s/it]"
          ]
        },
        {
          "output_type": "stream",
          "name": "stdout",
          "text": [
            "   Sample 18: moving_img shape = torch.Size([1, 5, 128, 128, 128]), fixed_img shape = torch.Size([1, 5, 128, 128, 128])\n"
          ]
        },
        {
          "output_type": "stream",
          "name": "stderr",
          "text": [
            "\rEvaluating RegLoss UNet:  95%|█████████▌| 19/20 [09:49<00:30, 30.24s/it]"
          ]
        },
        {
          "output_type": "stream",
          "name": "stdout",
          "text": [
            "   Sample 19: moving_img shape = torch.Size([1, 5, 128, 128, 128]), fixed_img shape = torch.Size([1, 5, 128, 128, 128])\n"
          ]
        },
        {
          "output_type": "stream",
          "name": "stderr",
          "text": [
            "Evaluating RegLoss UNet: 100%|██████████| 20/20 [10:19<00:00, 30.99s/it]\n"
          ]
        },
        {
          "output_type": "stream",
          "name": "stdout",
          "text": [
            "   Completed: 20 samples processed\n",
            "   MSE improvement: 0.022 ± 0.004\n",
            "   Local NCC improvement: 0.0676 ± 0.0121\n",
            "   Jacobian Det (topology): 1.005\n",
            "   Negative Jacobians: 0.0%\n",
            "   Anatomical Plausibility: 0.949\n",
            "   Deformation Smoothness: 0.833\n",
            "✅ RegLoss UNet: Enhanced evaluation completed successfully\n",
            "\n",
            "--- Evaluating Combined (Basic Loss) with Enhanced Metrics ---\n"
          ]
        },
        {
          "output_type": "stream",
          "name": "stderr",
          "text": [
            "\rEvaluating Combined (Basic Loss):   0%|          | 0/20 [00:00<?, ?it/s]"
          ]
        },
        {
          "output_type": "stream",
          "name": "stdout",
          "text": [
            "   Sample 0: moving_img shape = torch.Size([1, 5, 128, 128, 128]), fixed_img shape = torch.Size([1, 5, 128, 128, 128])\n"
          ]
        },
        {
          "output_type": "stream",
          "name": "stderr",
          "text": [
            "\rEvaluating Combined (Basic Loss):   5%|▌         | 1/20 [00:34<10:56, 34.53s/it]"
          ]
        },
        {
          "output_type": "stream",
          "name": "stdout",
          "text": [
            "   Sample 1: moving_img shape = torch.Size([1, 5, 128, 128, 128]), fixed_img shape = torch.Size([1, 5, 128, 128, 128])\n"
          ]
        },
        {
          "output_type": "stream",
          "name": "stderr",
          "text": [
            "\rEvaluating Combined (Basic Loss):  10%|█         | 2/20 [01:11<10:43, 35.73s/it]"
          ]
        },
        {
          "output_type": "stream",
          "name": "stdout",
          "text": [
            "   Sample 2: moving_img shape = torch.Size([1, 5, 128, 128, 128]), fixed_img shape = torch.Size([1, 5, 128, 128, 128])\n"
          ]
        },
        {
          "output_type": "stream",
          "name": "stderr",
          "text": [
            "\rEvaluating Combined (Basic Loss):  15%|█▌        | 3/20 [01:44<09:49, 34.65s/it]"
          ]
        },
        {
          "output_type": "stream",
          "name": "stdout",
          "text": [
            "   Sample 3: moving_img shape = torch.Size([1, 5, 128, 128, 128]), fixed_img shape = torch.Size([1, 5, 128, 128, 128])\n"
          ]
        },
        {
          "output_type": "stream",
          "name": "stderr",
          "text": [
            "\rEvaluating Combined (Basic Loss):  20%|██        | 4/20 [02:19<09:15, 34.70s/it]"
          ]
        },
        {
          "output_type": "stream",
          "name": "stdout",
          "text": [
            "   Sample 4: moving_img shape = torch.Size([1, 5, 128, 128, 128]), fixed_img shape = torch.Size([1, 5, 128, 128, 128])\n"
          ]
        },
        {
          "output_type": "stream",
          "name": "stderr",
          "text": [
            "\rEvaluating Combined (Basic Loss):  25%|██▌       | 5/20 [02:52<08:31, 34.07s/it]"
          ]
        },
        {
          "output_type": "stream",
          "name": "stdout",
          "text": [
            "   Sample 5: moving_img shape = torch.Size([1, 5, 128, 128, 128]), fixed_img shape = torch.Size([1, 5, 128, 128, 128])\n"
          ]
        },
        {
          "output_type": "stream",
          "name": "stderr",
          "text": [
            "\rEvaluating Combined (Basic Loss):  30%|███       | 6/20 [03:24<07:49, 33.53s/it]"
          ]
        },
        {
          "output_type": "stream",
          "name": "stdout",
          "text": [
            "   Sample 6: moving_img shape = torch.Size([1, 5, 128, 128, 128]), fixed_img shape = torch.Size([1, 5, 128, 128, 128])\n"
          ]
        },
        {
          "output_type": "stream",
          "name": "stderr",
          "text": [
            "\rEvaluating Combined (Basic Loss):  35%|███▌      | 7/20 [03:58<07:18, 33.70s/it]"
          ]
        },
        {
          "output_type": "stream",
          "name": "stdout",
          "text": [
            "   Sample 7: moving_img shape = torch.Size([1, 5, 128, 128, 128]), fixed_img shape = torch.Size([1, 5, 128, 128, 128])\n"
          ]
        },
        {
          "output_type": "stream",
          "name": "stderr",
          "text": [
            "\rEvaluating Combined (Basic Loss):  40%|████      | 8/20 [04:31<06:42, 33.53s/it]"
          ]
        },
        {
          "output_type": "stream",
          "name": "stdout",
          "text": [
            "   Sample 8: moving_img shape = torch.Size([1, 5, 128, 128, 128]), fixed_img shape = torch.Size([1, 5, 128, 128, 128])\n"
          ]
        },
        {
          "output_type": "stream",
          "name": "stderr",
          "text": [
            "\rEvaluating Combined (Basic Loss):  45%|████▌     | 9/20 [05:12<06:31, 35.59s/it]"
          ]
        },
        {
          "output_type": "stream",
          "name": "stdout",
          "text": [
            "   Sample 9: moving_img shape = torch.Size([1, 5, 128, 128, 128]), fixed_img shape = torch.Size([1, 5, 128, 128, 128])\n"
          ]
        },
        {
          "output_type": "stream",
          "name": "stderr",
          "text": [
            "\rEvaluating Combined (Basic Loss):  50%|█████     | 10/20 [05:49<06:02, 36.22s/it]"
          ]
        },
        {
          "output_type": "stream",
          "name": "stdout",
          "text": [
            "   Sample 10: moving_img shape = torch.Size([1, 5, 128, 128, 128]), fixed_img shape = torch.Size([1, 5, 128, 128, 128])\n"
          ]
        },
        {
          "output_type": "stream",
          "name": "stderr",
          "text": [
            "\rEvaluating Combined (Basic Loss):  55%|█████▌    | 11/20 [06:21<05:15, 35.01s/it]"
          ]
        },
        {
          "output_type": "stream",
          "name": "stdout",
          "text": [
            "   Sample 11: moving_img shape = torch.Size([1, 5, 128, 128, 128]), fixed_img shape = torch.Size([1, 5, 128, 128, 128])\n"
          ]
        },
        {
          "output_type": "stream",
          "name": "stderr",
          "text": [
            "\rEvaluating Combined (Basic Loss):  60%|██████    | 12/20 [06:54<04:33, 34.23s/it]"
          ]
        },
        {
          "output_type": "stream",
          "name": "stdout",
          "text": [
            "   Sample 12: moving_img shape = torch.Size([1, 5, 128, 128, 128]), fixed_img shape = torch.Size([1, 5, 128, 128, 128])\n"
          ]
        },
        {
          "output_type": "stream",
          "name": "stderr",
          "text": [
            "\rEvaluating Combined (Basic Loss):  65%|██████▌   | 13/20 [07:27<03:56, 33.80s/it]"
          ]
        },
        {
          "output_type": "stream",
          "name": "stdout",
          "text": [
            "   Sample 13: moving_img shape = torch.Size([1, 5, 128, 128, 128]), fixed_img shape = torch.Size([1, 5, 128, 128, 128])\n"
          ]
        },
        {
          "output_type": "stream",
          "name": "stderr",
          "text": [
            "\rEvaluating Combined (Basic Loss):  70%|███████   | 14/20 [07:59<03:19, 33.25s/it]"
          ]
        },
        {
          "output_type": "stream",
          "name": "stdout",
          "text": [
            "   Sample 14: moving_img shape = torch.Size([1, 5, 128, 128, 128]), fixed_img shape = torch.Size([1, 5, 128, 128, 128])\n"
          ]
        },
        {
          "output_type": "stream",
          "name": "stderr",
          "text": [
            "\rEvaluating Combined (Basic Loss):  75%|███████▌  | 15/20 [08:33<02:47, 33.45s/it]"
          ]
        },
        {
          "output_type": "stream",
          "name": "stdout",
          "text": [
            "   Sample 15: moving_img shape = torch.Size([1, 5, 128, 128, 128]), fixed_img shape = torch.Size([1, 5, 128, 128, 128])\n"
          ]
        },
        {
          "output_type": "stream",
          "name": "stderr",
          "text": [
            "\rEvaluating Combined (Basic Loss):  80%|████████  | 16/20 [09:05<02:13, 33.28s/it]"
          ]
        },
        {
          "output_type": "stream",
          "name": "stdout",
          "text": [
            "   Sample 16: moving_img shape = torch.Size([1, 5, 128, 128, 128]), fixed_img shape = torch.Size([1, 5, 128, 128, 128])\n"
          ]
        },
        {
          "output_type": "stream",
          "name": "stderr",
          "text": [
            "\rEvaluating Combined (Basic Loss):  85%|████████▌ | 17/20 [09:37<01:38, 32.90s/it]"
          ]
        },
        {
          "output_type": "stream",
          "name": "stdout",
          "text": [
            "   Sample 17: moving_img shape = torch.Size([1, 5, 128, 128, 128]), fixed_img shape = torch.Size([1, 5, 128, 128, 128])\n"
          ]
        },
        {
          "output_type": "stream",
          "name": "stderr",
          "text": [
            "\rEvaluating Combined (Basic Loss):  90%|█████████ | 18/20 [10:11<01:06, 33.12s/it]"
          ]
        },
        {
          "output_type": "stream",
          "name": "stdout",
          "text": [
            "   Sample 18: moving_img shape = torch.Size([1, 5, 128, 128, 128]), fixed_img shape = torch.Size([1, 5, 128, 128, 128])\n"
          ]
        },
        {
          "output_type": "stream",
          "name": "stderr",
          "text": [
            "\rEvaluating Combined (Basic Loss):  95%|█████████▌| 19/20 [10:43<00:32, 32.79s/it]"
          ]
        },
        {
          "output_type": "stream",
          "name": "stdout",
          "text": [
            "   Sample 19: moving_img shape = torch.Size([1, 5, 128, 128, 128]), fixed_img shape = torch.Size([1, 5, 128, 128, 128])\n"
          ]
        },
        {
          "output_type": "stream",
          "name": "stderr",
          "text": [
            "Evaluating Combined (Basic Loss): 100%|██████████| 20/20 [11:15<00:00, 33.78s/it]\n"
          ]
        },
        {
          "output_type": "stream",
          "name": "stdout",
          "text": [
            "   Completed: 20 samples processed\n",
            "   MSE improvement: 0.022 ± 0.004\n",
            "   Local NCC improvement: 0.0698 ± 0.0127\n",
            "   Jacobian Det (topology): 0.999\n",
            "   Negative Jacobians: 0.0%\n",
            "   Anatomical Plausibility: 0.940\n",
            "   Deformation Smoothness: 0.799\n",
            "✅ Combined (Basic Loss): Enhanced evaluation completed successfully\n",
            "\n",
            "--- Evaluating Combined (Reg Loss) with Enhanced Metrics ---\n"
          ]
        },
        {
          "output_type": "stream",
          "name": "stderr",
          "text": [
            "\rEvaluating Combined (Reg Loss):   0%|          | 0/20 [00:00<?, ?it/s]"
          ]
        },
        {
          "output_type": "stream",
          "name": "stdout",
          "text": [
            "   Sample 0: moving_img shape = torch.Size([1, 5, 128, 128, 128]), fixed_img shape = torch.Size([1, 5, 128, 128, 128])\n"
          ]
        },
        {
          "output_type": "stream",
          "name": "stderr",
          "text": [
            "\rEvaluating Combined (Reg Loss):   5%|▌         | 1/20 [00:35<11:18, 35.70s/it]"
          ]
        },
        {
          "output_type": "stream",
          "name": "stdout",
          "text": [
            "   Sample 1: moving_img shape = torch.Size([1, 5, 128, 128, 128]), fixed_img shape = torch.Size([1, 5, 128, 128, 128])\n"
          ]
        },
        {
          "output_type": "stream",
          "name": "stderr",
          "text": [
            "\rEvaluating Combined (Reg Loss):  10%|█         | 2/20 [01:10<10:28, 34.92s/it]"
          ]
        },
        {
          "output_type": "stream",
          "name": "stdout",
          "text": [
            "   Sample 2: moving_img shape = torch.Size([1, 5, 128, 128, 128]), fixed_img shape = torch.Size([1, 5, 128, 128, 128])\n"
          ]
        },
        {
          "output_type": "stream",
          "name": "stderr",
          "text": [
            "\rEvaluating Combined (Reg Loss):  15%|█▌        | 3/20 [01:42<09:37, 33.95s/it]"
          ]
        },
        {
          "output_type": "stream",
          "name": "stdout",
          "text": [
            "   Sample 3: moving_img shape = torch.Size([1, 5, 128, 128, 128]), fixed_img shape = torch.Size([1, 5, 128, 128, 128])\n"
          ]
        },
        {
          "output_type": "stream",
          "name": "stderr",
          "text": [
            "\rEvaluating Combined (Reg Loss):  20%|██        | 4/20 [02:16<09:02, 33.92s/it]"
          ]
        },
        {
          "output_type": "stream",
          "name": "stdout",
          "text": [
            "   Sample 4: moving_img shape = torch.Size([1, 5, 128, 128, 128]), fixed_img shape = torch.Size([1, 5, 128, 128, 128])\n"
          ]
        },
        {
          "output_type": "stream",
          "name": "stderr",
          "text": [
            "\rEvaluating Combined (Reg Loss):  25%|██▌       | 5/20 [02:49<08:24, 33.64s/it]"
          ]
        },
        {
          "output_type": "stream",
          "name": "stdout",
          "text": [
            "   Sample 5: moving_img shape = torch.Size([1, 5, 128, 128, 128]), fixed_img shape = torch.Size([1, 5, 128, 128, 128])\n"
          ]
        },
        {
          "output_type": "stream",
          "name": "stderr",
          "text": [
            "\rEvaluating Combined (Reg Loss):  30%|███       | 6/20 [03:22<07:47, 33.41s/it]"
          ]
        },
        {
          "output_type": "stream",
          "name": "stdout",
          "text": [
            "   Sample 6: moving_img shape = torch.Size([1, 5, 128, 128, 128]), fixed_img shape = torch.Size([1, 5, 128, 128, 128])\n"
          ]
        },
        {
          "output_type": "stream",
          "name": "stderr",
          "text": [
            "\rEvaluating Combined (Reg Loss):  35%|███▌      | 7/20 [04:00<07:31, 34.76s/it]"
          ]
        },
        {
          "output_type": "stream",
          "name": "stdout",
          "text": [
            "   Sample 7: moving_img shape = torch.Size([1, 5, 128, 128, 128]), fixed_img shape = torch.Size([1, 5, 128, 128, 128])\n"
          ]
        },
        {
          "output_type": "stream",
          "name": "stderr",
          "text": [
            "\rEvaluating Combined (Reg Loss):  40%|████      | 8/20 [04:42<07:25, 37.10s/it]"
          ]
        },
        {
          "output_type": "stream",
          "name": "stdout",
          "text": [
            "   Sample 8: moving_img shape = torch.Size([1, 5, 128, 128, 128]), fixed_img shape = torch.Size([1, 5, 128, 128, 128])\n"
          ]
        },
        {
          "output_type": "stream",
          "name": "stderr",
          "text": [
            "\rEvaluating Combined (Reg Loss):  45%|████▌     | 9/20 [05:15<06:32, 35.70s/it]"
          ]
        },
        {
          "output_type": "stream",
          "name": "stdout",
          "text": [
            "   Sample 9: moving_img shape = torch.Size([1, 5, 128, 128, 128]), fixed_img shape = torch.Size([1, 5, 128, 128, 128])\n"
          ]
        },
        {
          "output_type": "stream",
          "name": "stderr",
          "text": [
            "\rEvaluating Combined (Reg Loss):  50%|█████     | 10/20 [05:48<05:51, 35.11s/it]"
          ]
        },
        {
          "output_type": "stream",
          "name": "stdout",
          "text": [
            "   Sample 10: moving_img shape = torch.Size([1, 5, 128, 128, 128]), fixed_img shape = torch.Size([1, 5, 128, 128, 128])\n"
          ]
        },
        {
          "output_type": "stream",
          "name": "stderr",
          "text": [
            "\rEvaluating Combined (Reg Loss):  55%|█████▌    | 11/20 [06:21<05:08, 34.27s/it]"
          ]
        },
        {
          "output_type": "stream",
          "name": "stdout",
          "text": [
            "   Sample 11: moving_img shape = torch.Size([1, 5, 128, 128, 128]), fixed_img shape = torch.Size([1, 5, 128, 128, 128])\n"
          ]
        },
        {
          "output_type": "stream",
          "name": "stderr",
          "text": [
            "\rEvaluating Combined (Reg Loss):  60%|██████    | 12/20 [06:53<04:28, 33.60s/it]"
          ]
        },
        {
          "output_type": "stream",
          "name": "stdout",
          "text": [
            "   Sample 12: moving_img shape = torch.Size([1, 5, 128, 128, 128]), fixed_img shape = torch.Size([1, 5, 128, 128, 128])\n"
          ]
        },
        {
          "output_type": "stream",
          "name": "stderr",
          "text": [
            "\rEvaluating Combined (Reg Loss):  65%|██████▌   | 13/20 [07:27<03:55, 33.62s/it]"
          ]
        },
        {
          "output_type": "stream",
          "name": "stdout",
          "text": [
            "   Sample 13: moving_img shape = torch.Size([1, 5, 128, 128, 128]), fixed_img shape = torch.Size([1, 5, 128, 128, 128])\n"
          ]
        },
        {
          "output_type": "stream",
          "name": "stderr",
          "text": [
            "\rEvaluating Combined (Reg Loss):  70%|███████   | 14/20 [08:00<03:22, 33.68s/it]"
          ]
        },
        {
          "output_type": "stream",
          "name": "stdout",
          "text": [
            "   Sample 14: moving_img shape = torch.Size([1, 5, 128, 128, 128]), fixed_img shape = torch.Size([1, 5, 128, 128, 128])\n"
          ]
        },
        {
          "output_type": "stream",
          "name": "stderr",
          "text": [
            "\rEvaluating Combined (Reg Loss):  75%|███████▌  | 15/20 [08:33<02:46, 33.34s/it]"
          ]
        },
        {
          "output_type": "stream",
          "name": "stdout",
          "text": [
            "   Sample 15: moving_img shape = torch.Size([1, 5, 128, 128, 128]), fixed_img shape = torch.Size([1, 5, 128, 128, 128])\n"
          ]
        },
        {
          "output_type": "stream",
          "name": "stderr",
          "text": [
            "\rEvaluating Combined (Reg Loss):  80%|████████  | 16/20 [09:07<02:14, 33.61s/it]"
          ]
        },
        {
          "output_type": "stream",
          "name": "stdout",
          "text": [
            "   Sample 16: moving_img shape = torch.Size([1, 5, 128, 128, 128]), fixed_img shape = torch.Size([1, 5, 128, 128, 128])\n"
          ]
        },
        {
          "output_type": "stream",
          "name": "stderr",
          "text": [
            "\rEvaluating Combined (Reg Loss):  85%|████████▌ | 17/20 [09:40<01:40, 33.36s/it]"
          ]
        },
        {
          "output_type": "stream",
          "name": "stdout",
          "text": [
            "   Sample 17: moving_img shape = torch.Size([1, 5, 128, 128, 128]), fixed_img shape = torch.Size([1, 5, 128, 128, 128])\n"
          ]
        },
        {
          "output_type": "stream",
          "name": "stderr",
          "text": [
            "\rEvaluating Combined (Reg Loss):  90%|█████████ | 18/20 [10:12<01:06, 33.10s/it]"
          ]
        },
        {
          "output_type": "stream",
          "name": "stdout",
          "text": [
            "   Sample 18: moving_img shape = torch.Size([1, 5, 128, 128, 128]), fixed_img shape = torch.Size([1, 5, 128, 128, 128])\n"
          ]
        },
        {
          "output_type": "stream",
          "name": "stderr",
          "text": [
            "\rEvaluating Combined (Reg Loss):  95%|█████████▌| 19/20 [10:46<00:33, 33.27s/it]"
          ]
        },
        {
          "output_type": "stream",
          "name": "stdout",
          "text": [
            "   Sample 19: moving_img shape = torch.Size([1, 5, 128, 128, 128]), fixed_img shape = torch.Size([1, 5, 128, 128, 128])\n"
          ]
        },
        {
          "output_type": "stream",
          "name": "stderr",
          "text": [
            "Evaluating Combined (Reg Loss): 100%|██████████| 20/20 [11:19<00:00, 33.95s/it]"
          ]
        },
        {
          "output_type": "stream",
          "name": "stdout",
          "text": [
            "   Completed: 20 samples processed\n",
            "   MSE improvement: 0.022 ± 0.004\n",
            "   Local NCC improvement: 0.0698 ± 0.0128\n",
            "   Jacobian Det (topology): 1.004\n",
            "   Negative Jacobians: 0.0%\n",
            "   Anatomical Plausibility: 0.930\n",
            "   Deformation Smoothness: 0.770\n",
            "✅ Combined (Reg Loss): Enhanced evaluation completed successfully\n",
            "\n",
            "Enhanced ablation study completed! 4/4 models evaluated successfully.\n",
            "\n",
            "================================================================================\n",
            "ENHANCED METRICS COMPARISON\n",
            "================================================================================\n",
            "\n",
            "Baseline UNet:\n",
            "  Registration Quality:\n",
            "    MSE Improvement: 0.0178 ± 0.0037\n",
            "    Local NCC Improvement: 0.0555 ± 0.0115\n",
            "    Gradient Correlation: 0.7422\n",
            "    Mutual Information: 0.4776\n",
            "  Deformation Quality:\n",
            "    Jacobian Determinant: 0.9930 (folding=6.4%)\n",
            "    Smoothness Score: 0.0262\n",
            "    Anatomical Plausibility: 0.5957\n",
            "    Local Rigidity: 0.0064\n",
            "    Boundary Preservation: 0.6234\n",
            "\n",
            "RegLoss UNet:\n",
            "  Registration Quality:\n",
            "    MSE Improvement: 0.0216 ± 0.0039\n",
            "    Local NCC Improvement: 0.0676 ± 0.0121\n",
            "    Gradient Correlation: 0.8979\n",
            "    Mutual Information: 0.4935\n",
            "  Deformation Quality:\n",
            "    Jacobian Determinant: 1.0051 (folding=0.0%)\n",
            "    Smoothness Score: 0.8328\n",
            "    Anatomical Plausibility: 0.9486\n",
            "    Local Rigidity: 0.9872\n",
            "    Boundary Preservation: 0.2108\n",
            "\n",
            "Combined (Basic Loss):\n",
            "  Registration Quality:\n",
            "    MSE Improvement: 0.0223 ± 0.0041\n",
            "    Local NCC Improvement: 0.0698 ± 0.0127\n",
            "    Gradient Correlation: 0.9696\n",
            "    Mutual Information: 0.4963\n",
            "  Deformation Quality:\n",
            "    Jacobian Determinant: 0.9994 (folding=0.0%)\n",
            "    Smoothness Score: 0.7994\n",
            "    Anatomical Plausibility: 0.9395\n",
            "    Local Rigidity: 0.9969\n",
            "    Boundary Preservation: 0.3381\n",
            "\n",
            "Combined (Reg Loss):\n",
            "  Registration Quality:\n",
            "    MSE Improvement: 0.0224 ± 0.0041\n",
            "    Local NCC Improvement: 0.0698 ± 0.0128\n",
            "    Gradient Correlation: 0.9796\n",
            "    Mutual Information: 0.4964\n",
            "  Deformation Quality:\n",
            "    Jacobian Determinant: 1.0040 (folding=0.0%)\n",
            "    Smoothness Score: 0.7696\n",
            "    Anatomical Plausibility: 0.9303\n",
            "    Local Rigidity: 0.9943\n",
            "    Boundary Preservation: 0.1081\n",
            "\n",
            "Enhanced ablation study completed! 4 models evaluated.\n",
            "\n",
            "ENHANCED RESULTS SUMMARY:\n",
            "--------------------------------------------------------------------------------\n",
            "Model                     MSE↑     NCC↑     JacDet   Smooth   Plausible  Time(ms)  \n",
            "--------------------------------------------------------------------------------\n",
            "Baseline UNet             +0.018   +0.055    0.993   0.026     0.596   27032.3\n",
            "RegLoss UNet              +0.022   +0.068    1.005   0.833     0.949   27015.6\n",
            "Combined (Basic Loss)     +0.022   +0.070    0.999   0.799     0.940   29666.5\n",
            "Combined (Reg Loss)       +0.022   +0.070    1.004   0.770     0.930   29776.1\n",
            "--------------------------------------------------------------------------------\n",
            "\n",
            "KEY INSIGHTS FROM ENHANCED ANALYSIS:\n",
            "============================================================\n",
            "🏆 Best Topology Preservation: RegLoss UNet (JacDet: 1.005)\n",
            "🏆 Best Deformation Smoothness: RegLoss UNet (Score: 0.833)\n",
            "🏆 Best Anatomical Plausibility: RegLoss UNet (Score: 0.949)\n",
            "\n",
            "REGULARIZATION IMPACT ANALYSIS:\n",
            "Topology Preservation Improvement: +0.011\n",
            "Smoothness Improvement: +0.743\n",
            "Anatomical Plausibility Improvement: +0.335\n",
            "Folding Reduction: 6.4%\n",
            "\n",
            "Enhanced evaluation complete! Now you can see the detailed differences between models.\n"
          ]
        },
        {
          "output_type": "stream",
          "name": "stderr",
          "text": [
            "\n"
          ]
        }
      ]
    },
    {
      "cell_type": "code",
      "source": [
        "# ====================================================================\n",
        "# Cell 10: Results Analysis and Visualization (FIXED)\n",
        "# ====================================================================\n",
        "\n",
        "if 'ablation_results' in locals() and ablation_results:\n",
        "    print(\"\\n\" + \"=\"*80)\n",
        "    print(\"DETAILED ANALYSIS OF ENHANCED RESULTS\")\n",
        "    print(\"=\"*80)\n",
        "\n",
        "    # Create comprehensive comparison\n",
        "    comparison_data = []\n",
        "    for name, results in ablation_results.items():\n",
        "        reg_metrics = results['registration_metrics']\n",
        "        comp_metrics = results['computational_metrics']\n",
        "        deform_metrics = results.get('deformation_metrics', results.get('deformation_quality', {}))\n",
        "\n",
        "        comparison_data.append({\n",
        "            'Model': name,\n",
        "            'Type': results['model_type'],\n",
        "            'MSE_Improvement': reg_metrics['mse_improvement_mean'],\n",
        "            'MSE_Std': reg_metrics['mse_improvement_std'],\n",
        "            'NCC_Improvement': reg_metrics['ncc_improvement_mean'],\n",
        "            'NCC_Std': reg_metrics['ncc_improvement_std'],\n",
        "            'SSIM_Improvement': reg_metrics['ssim_improvement_mean'],\n",
        "            'SSIM_Std': reg_metrics['ssim_improvement_std'],\n",
        "            'Inference_Time_ms': comp_metrics['inference_time_mean'] * 1000,\n",
        "            'Max_Displacement': deform_metrics.get('max_displacement_mean', 0),\n",
        "            'Mean_Displacement': deform_metrics.get('mean_displacement_mean', 0),\n",
        "            # Enhanced metrics\n",
        "            'Local_NCC_Improvement': reg_metrics.get('local_ncc_improvement_mean', 0),\n",
        "            'Gradient_Correlation': reg_metrics.get('gradient_correlation_mean', 0),\n",
        "            'Mutual_Information': reg_metrics.get('mutual_information_mean', 0),\n",
        "            'Jacobian_Det': results.get('deformation_quality', {}).get('jacobian_determinant_mean', 1.0),\n",
        "            'Anatomical_Plausibility': results.get('deformation_quality', {}).get('anatomical_plausibility_mean', 0)\n",
        "        })\n",
        "\n",
        "    # Convert to DataFrame for better visualization\n",
        "    df = pd.DataFrame(comparison_data)\n",
        "    print(\"\\nCOMPREHENSIVE ENHANCED COMPARISON TABLE:\")\n",
        "    print(\"=\"*60)\n",
        "\n",
        "    for _, row in df.iterrows():\n",
        "        print(f\"\\n{row['Model']} ({row['Type']}):\")\n",
        "        print(f\"  Registration Quality:\")\n",
        "        print(f\"    MSE Improvement: {row['MSE_Improvement']:.4f} ± {row['MSE_Std']:.4f}\")\n",
        "        print(f\"    NCC Improvement: {row['NCC_Improvement']:.4f} ± {row['NCC_Std']:.4f}\")\n",
        "        print(f\"    SSIM Improvement: {row['SSIM_Improvement']:.4f} ± {row['SSIM_Std']:.4f}\")\n",
        "        print(f\"    Local NCC Improvement: {row['Local_NCC_Improvement']:.4f}\")\n",
        "        print(f\"    Gradient Correlation: {row['Gradient_Correlation']:.4f}\")\n",
        "        print(f\"    Mutual Information: {row['Mutual_Information']:.4f}\")\n",
        "        print(f\"  Deformation Quality:\")\n",
        "        print(f\"    Jacobian Determinant: {row['Jacobian_Det']:.4f}\")\n",
        "        print(f\"    Anatomical Plausibility: {row['Anatomical_Plausibility']:.4f}\")\n",
        "        print(f\"    Max Displacement: {row['Max_Displacement']:.4f}\")\n",
        "        print(f\"    Mean Displacement: {row['Mean_Displacement']:.4f}\")\n",
        "        print(f\"  Computational Cost:\")\n",
        "        print(f\"    Inference Time: {row['Inference_Time_ms']:.1f} ms\")\n",
        "\n",
        "    # Enhanced key findings\n",
        "    print(\"\\n\" + \"=\"*60)\n",
        "    print(\"ENHANCED KEY FINDINGS:\")\n",
        "    print(\"=\"*60)\n",
        "\n",
        "    # Find best performers across different metrics\n",
        "    best_mse = df.loc[df['MSE_Improvement'].idxmax()]\n",
        "    best_local_ncc = df.loc[df['Local_NCC_Improvement'].idxmax()]\n",
        "    best_jacobian = df.loc[df['Jacobian_Det'].idxmax()]\n",
        "    best_plausibility = df.loc[df['Anatomical_Plausibility'].idxmax()]\n",
        "    fastest = df.loc[df['Inference_Time_ms'].idxmin()]\n",
        "\n",
        "    print(f\"🏆 Best MSE Improvement: {best_mse['Model']} ({best_mse['MSE_Improvement']:.4f})\")\n",
        "    print(f\"🏆 Best Local NCC Improvement: {best_local_ncc['Model']} ({best_local_ncc['Local_NCC_Improvement']:.4f})\")\n",
        "    print(f\"🏆 Best Topology Preservation: {best_jacobian['Model']} (Jacobian Det: {best_jacobian['Jacobian_Det']:.3f})\")\n",
        "    print(f\"🏆 Best Anatomical Plausibility: {best_plausibility['Model']} ({best_plausibility['Anatomical_Plausibility']:.3f})\")\n",
        "    print(f\"⚡ Fastest Inference: {fastest['Model']} ({fastest['Inference_Time_ms']:.1f}ms)\")\n",
        "\n",
        "    # Architecture comparison\n",
        "    unet_only = df[df['Type'].isin(['baseline', 'regloss_only'])]\n",
        "    combined = df[df['Type'].isin(['combined_basic', 'combined_enhanced'])]\n",
        "\n",
        "    if len(unet_only) > 0 and len(combined) > 0:\n",
        "        print(f\"\\n📊 ARCHITECTURE COMPARISON:\")\n",
        "        print(f\"UNet-only average MSE improvement: {unet_only['MSE_Improvement'].mean():.4f}\")\n",
        "        print(f\"Combined average MSE improvement: {combined['MSE_Improvement'].mean():.4f}\")\n",
        "        print(f\"UNet-only average Jacobian Det: {unet_only['Jacobian_Det'].mean():.3f}\")\n",
        "        print(f\"Combined average Jacobian Det: {combined['Jacobian_Det'].mean():.3f}\")\n",
        "        print(f\"UNet-only average inference time: {unet_only['Inference_Time_ms'].mean():.1f}ms\")\n",
        "        print(f\"Combined average inference time: {combined['Inference_Time_ms'].mean():.1f}ms\")\n",
        "\n",
        "    # Loss function comparison (if both combined models are present)\n",
        "    basic_combined = df[df['Type'] == 'combined_basic']\n",
        "    enhanced_combined = df[df['Type'] == 'combined_enhanced']\n",
        "\n",
        "    if len(basic_combined) > 0 and len(enhanced_combined) > 0:\n",
        "        print(f\"\\n🔬 LOSS FUNCTION COMPARISON (Combined Models):\")\n",
        "        basic_perf = basic_combined['MSE_Improvement'].iloc[0]\n",
        "        enhanced_perf = enhanced_combined['MSE_Improvement'].iloc[0]\n",
        "        basic_plausibility = basic_combined['Anatomical_Plausibility'].iloc[0]\n",
        "        enhanced_plausibility = enhanced_combined['Anatomical_Plausibility'].iloc[0]\n",
        "\n",
        "        print(f\"Basic Loss MSE improvement: {basic_perf:.4f}\")\n",
        "        print(f\"Enhanced Loss MSE improvement: {enhanced_perf:.4f}\")\n",
        "        print(f\"Basic Loss Anatomical Plausibility: {basic_plausibility:.3f}\")\n",
        "        print(f\"Enhanced Loss Anatomical Plausibility: {enhanced_plausibility:.3f}\")\n",
        "\n",
        "        improvement = ((enhanced_perf - basic_perf) / basic_perf) * 100 if basic_perf > 0 else 0\n",
        "        plausibility_improvement = enhanced_plausibility - basic_plausibility\n",
        "        print(f\"Regularization loss impact: {improvement:+.1f}% change in MSE\")\n",
        "        print(f\"Anatomical plausibility gain: {plausibility_improvement:+.3f}\")\n",
        "\n",
        "print(\"\\nFixed enhanced evaluation notebook complete!\")"
      ],
      "metadata": {
        "colab": {
          "base_uri": "https://localhost:8080/"
        },
        "id": "edBs4gft0Ni9",
        "outputId": "a725e9bd-aca7-45ce-bf70-61eefbfe996d"
      },
      "execution_count": 21,
      "outputs": [
        {
          "output_type": "stream",
          "name": "stdout",
          "text": [
            "\n",
            "================================================================================\n",
            "DETAILED ANALYSIS OF ENHANCED RESULTS\n",
            "================================================================================\n",
            "\n",
            "COMPREHENSIVE ENHANCED COMPARISON TABLE:\n",
            "============================================================\n",
            "\n",
            "Baseline UNet (baseline):\n",
            "  Registration Quality:\n",
            "    MSE Improvement: 0.0178 ± 0.0037\n",
            "    NCC Improvement: 0.0555 ± 0.0115\n",
            "    SSIM Improvement: 0.0553 ± 0.0115\n",
            "    Local NCC Improvement: 0.0555\n",
            "    Gradient Correlation: 0.7422\n",
            "    Mutual Information: 0.4776\n",
            "  Deformation Quality:\n",
            "    Jacobian Determinant: 0.9930\n",
            "    Anatomical Plausibility: 0.5957\n",
            "    Max Displacement: 53.0936\n",
            "    Mean Displacement: 3.5553\n",
            "  Computational Cost:\n",
            "    Inference Time: 27032.3 ms\n",
            "\n",
            "RegLoss UNet (regloss_only):\n",
            "  Registration Quality:\n",
            "    MSE Improvement: 0.0216 ± 0.0039\n",
            "    NCC Improvement: 0.0676 ± 0.0121\n",
            "    SSIM Improvement: 0.0674 ± 0.0121\n",
            "    Local NCC Improvement: 0.0676\n",
            "    Gradient Correlation: 0.8979\n",
            "    Mutual Information: 0.4935\n",
            "  Deformation Quality:\n",
            "    Jacobian Determinant: 1.0051\n",
            "    Anatomical Plausibility: 0.9486\n",
            "    Max Displacement: 0.5120\n",
            "    Mean Displacement: 0.2672\n",
            "  Computational Cost:\n",
            "    Inference Time: 27015.6 ms\n",
            "\n",
            "Combined (Basic Loss) (combined_basic):\n",
            "  Registration Quality:\n",
            "    MSE Improvement: 0.0223 ± 0.0041\n",
            "    NCC Improvement: 0.0698 ± 0.0127\n",
            "    SSIM Improvement: 0.0696 ± 0.0127\n",
            "    Local NCC Improvement: 0.0698\n",
            "    Gradient Correlation: 0.9696\n",
            "    Mutual Information: 0.4963\n",
            "  Deformation Quality:\n",
            "    Jacobian Determinant: 0.9994\n",
            "    Anatomical Plausibility: 0.9395\n",
            "    Max Displacement: 0.4962\n",
            "    Mean Displacement: 0.1311\n",
            "  Computational Cost:\n",
            "    Inference Time: 29666.5 ms\n",
            "\n",
            "Combined (Reg Loss) (combined_enhanced):\n",
            "  Registration Quality:\n",
            "    MSE Improvement: 0.0224 ± 0.0041\n",
            "    NCC Improvement: 0.0698 ± 0.0128\n",
            "    SSIM Improvement: 0.0697 ± 0.0128\n",
            "    Local NCC Improvement: 0.0698\n",
            "    Gradient Correlation: 0.9796\n",
            "    Mutual Information: 0.4964\n",
            "  Deformation Quality:\n",
            "    Jacobian Determinant: 1.0040\n",
            "    Anatomical Plausibility: 0.9303\n",
            "    Max Displacement: 0.5191\n",
            "    Mean Displacement: 0.1605\n",
            "  Computational Cost:\n",
            "    Inference Time: 29776.1 ms\n",
            "\n",
            "============================================================\n",
            "ENHANCED KEY FINDINGS:\n",
            "============================================================\n",
            "🏆 Best MSE Improvement: Combined (Reg Loss) (0.0224)\n",
            "🏆 Best Local NCC Improvement: Combined (Reg Loss) (0.0698)\n",
            "🏆 Best Topology Preservation: RegLoss UNet (Jacobian Det: 1.005)\n",
            "🏆 Best Anatomical Plausibility: RegLoss UNet (0.949)\n",
            "⚡ Fastest Inference: RegLoss UNet (27015.6ms)\n",
            "\n",
            "📊 ARCHITECTURE COMPARISON:\n",
            "UNet-only average MSE improvement: 0.0197\n",
            "Combined average MSE improvement: 0.0223\n",
            "UNet-only average Jacobian Det: 0.999\n",
            "Combined average Jacobian Det: 1.002\n",
            "UNet-only average inference time: 27023.9ms\n",
            "Combined average inference time: 29721.3ms\n",
            "\n",
            "🔬 LOSS FUNCTION COMPARISON (Combined Models):\n",
            "Basic Loss MSE improvement: 0.0223\n",
            "Enhanced Loss MSE improvement: 0.0224\n",
            "Basic Loss Anatomical Plausibility: 0.940\n",
            "Enhanced Loss Anatomical Plausibility: 0.930\n",
            "Regularization loss impact: +0.1% change in MSE\n",
            "Anatomical plausibility gain: -0.009\n",
            "\n",
            "Fixed enhanced evaluation notebook complete!\n"
          ]
        }
      ]
    },
    {
      "cell_type": "code",
      "source": [
        "# ====================================================================\n",
        "# Cell 11: Enhanced Visualization and Analysis\n",
        "# ====================================================================\n",
        "\n",
        "def create_enhanced_ablation_plots(results_dict, model_configs):\n",
        "    \"\"\"Create comprehensive enhanced ablation study visualizations\"\"\"\n",
        "    if not results_dict or len(results_dict) < 1:\n",
        "        print(\"Need at least 1 model result for visualization\")\n",
        "        return None, None\n",
        "\n",
        "    # Create figure with subplots for different aspects\n",
        "    fig = plt.figure(figsize=(24, 20))\n",
        "    gs = fig.add_gridspec(4, 4, hspace=0.4, wspace=0.3)\n",
        "\n",
        "    # Main title\n",
        "    fig.suptitle('Enhanced Ablation Study: Comprehensive Registration Analysis\\n' +\n",
        "                 'Quantifying Registration Quality and Deformation Characteristics',\n",
        "                 fontsize=20, fontweight='bold', y=0.95)\n",
        "\n",
        "    # Prepare data\n",
        "    model_names = list(results_dict.keys())\n",
        "    colors = {}\n",
        "    model_types = {}\n",
        "    for config in model_configs:\n",
        "        if config['name'] in results_dict:\n",
        "            colors[config['name']] = config['color']\n",
        "            model_types[config['name']] = config['type']\n",
        "\n",
        "    # Extract enhanced metrics\n",
        "    mse_improvements = []\n",
        "    local_ncc_improvements = []\n",
        "    gradient_correlations = []\n",
        "    mutual_informations = []\n",
        "    jacobian_dets = []\n",
        "    anatomical_plausibilities = []\n",
        "    smoothness_scores = []\n",
        "    inference_times = []\n",
        "    max_displacements = []\n",
        "\n",
        "    for name in model_names:\n",
        "        result = results_dict[name]\n",
        "        reg_metrics = result['registration_metrics']\n",
        "        deform_quality = result.get('deformation_quality', {})\n",
        "        comp_metrics = result['computational_metrics']\n",
        "        deform_metrics = result.get('deformation_metrics', {})\n",
        "\n",
        "        mse_improvements.append(reg_metrics.get('mse_improvement_mean', 0) * 100)\n",
        "        local_ncc_improvements.append(reg_metrics.get('local_ncc_improvement_mean', 0))\n",
        "        gradient_correlations.append(reg_metrics.get('gradient_correlation_mean', 0))\n",
        "        mutual_informations.append(reg_metrics.get('mutual_information_mean', 0))\n",
        "        jacobian_dets.append(deform_quality.get('jacobian_determinant_mean', 1.0))\n",
        "        anatomical_plausibilities.append(deform_quality.get('anatomical_plausibility_mean', 0))\n",
        "        smoothness_scores.append(deform_quality.get('smoothness_score_mean', 0))\n",
        "        inference_times.append(comp_metrics.get('inference_time_mean', 0) * 1000)\n",
        "        max_displacements.append(deform_metrics.get('max_displacement_mean', 0))\n",
        "\n",
        "    plot_colors = [colors.get(name, '#333333') for name in model_names]\n",
        "\n",
        "    # 1. Enhanced Registration Accuracy Comparison\n",
        "    ax1 = fig.add_subplot(gs[0, :2])\n",
        "    if len(model_names) > 0:\n",
        "        x_pos = np.arange(len(model_names))\n",
        "        width = 0.35\n",
        "\n",
        "        # MSE and Local NCC side by side\n",
        "        bars1 = ax1.bar(x_pos - width/2, mse_improvements, width,\n",
        "                       label='MSE Improvement (%)', color=plot_colors, alpha=0.8)\n",
        "        ax1_twin = ax1.twinx()\n",
        "        bars2 = ax1_twin.bar(x_pos + width/2, local_ncc_improvements, width,\n",
        "                            label='Local NCC Improvement', color=plot_colors, alpha=0.6)\n",
        "\n",
        "        ax1.set_xlabel('Models')\n",
        "        ax1.set_ylabel('MSE Improvement (%)', color='darkred')\n",
        "        ax1_twin.set_ylabel('Local NCC Improvement', color='darkblue')\n",
        "        ax1.set_title('A) Enhanced Registration Accuracy: MSE vs Local NCC', fontweight='bold')\n",
        "        ax1.set_xticks(x_pos)\n",
        "        ax1.set_xticklabels([name.replace(' ', '\\n') for name in model_names], rotation=0)\n",
        "        ax1.grid(axis='y', alpha=0.3)\n",
        "\n",
        "    # 2. Advanced Similarity Metrics\n",
        "    ax2 = fig.add_subplot(gs[0, 2:])\n",
        "    if len(model_names) > 0:\n",
        "        x_pos = np.arange(len(model_names))\n",
        "        width = 0.25\n",
        "\n",
        "        bars1 = ax2.bar(x_pos - width, gradient_correlations, width,\n",
        "                       label='Gradient Correlation', alpha=0.8, color='orange')\n",
        "        bars2 = ax2.bar(x_pos, mutual_informations, width,\n",
        "                       label='Mutual Information', alpha=0.8, color='green')\n",
        "\n",
        "        ax2.set_xlabel('Models')\n",
        "        ax2.set_ylabel('Similarity Score')\n",
        "        ax2.set_title('B) Advanced Similarity Metrics', fontweight='bold')\n",
        "        ax2.set_xticks(x_pos)\n",
        "        ax2.set_xticklabels([name.split()[0] for name in model_names], rotation=45)\n",
        "        ax2.legend()\n",
        "        ax2.grid(axis='y', alpha=0.3)\n",
        "\n",
        "    # 3. Deformation Quality Assessment\n",
        "    ax3 = fig.add_subplot(gs[1, :2])\n",
        "    if len(model_names) > 0:\n",
        "        x_pos = np.arange(len(model_names))\n",
        "        width = 0.35\n",
        "\n",
        "        bars1 = ax3.bar(x_pos - width/2, jacobian_dets, width,\n",
        "                       label='Jacobian Determinant', color='purple', alpha=0.8)\n",
        "        ax3_twin = ax3.twinx()\n",
        "        bars2 = ax3_twin.bar(x_pos + width/2, anatomical_plausibilities, width,\n",
        "                            label='Anatomical Plausibility', color='red', alpha=0.6)\n",
        "\n",
        "        ax3.set_xlabel('Models')\n",
        "        ax3.set_ylabel('Jacobian Determinant', color='purple')\n",
        "        ax3_twin.set_ylabel('Anatomical Plausibility', color='red')\n",
        "        ax3.set_title('C) Deformation Quality: Topology vs Plausibility', fontweight='bold')\n",
        "        ax3.set_xticks(x_pos)\n",
        "        ax3.set_xticklabels([name.replace(' ', '\\n') for name in model_names])\n",
        "        ax3.axhline(y=1.0, color='black', linestyle='--', alpha=0.7, label='Volume Preserving')\n",
        "        ax3.grid(axis='y', alpha=0.3)\n",
        "\n",
        "    # 4. Smoothness vs Displacement Trade-off\n",
        "    ax4 = fig.add_subplot(gs[1, 2:])\n",
        "    if len(model_names) > 0:\n",
        "        scatter = ax4.scatter(max_displacements, smoothness_scores,\n",
        "                             c=plot_colors, s=200, alpha=0.8, edgecolors='black', linewidth=2)\n",
        "        for i, name in enumerate(model_names):\n",
        "            ax4.annotate(name.split()[0], (max_displacements[i], smoothness_scores[i]),\n",
        "                        xytext=(8, 8), textcoords='offset points', fontweight='bold')\n",
        "        ax4.set_xlabel('Max Displacement')\n",
        "        ax4.set_ylabel('Smoothness Score')\n",
        "        ax4.set_title('D) Smoothness vs Displacement Trade-off', fontweight='bold')\n",
        "        ax4.grid(True, alpha=0.3)\n",
        "\n",
        "    # 5. Component Contribution Analysis\n",
        "    ax5 = fig.add_subplot(gs[2, :])\n",
        "\n",
        "    # Group models by enhancement type\n",
        "    baseline_idx = None\n",
        "    regloss_idx = None\n",
        "    combined_basic_idx = None\n",
        "    combined_enhanced_idx = None\n",
        "\n",
        "    for i, name in enumerate(model_names):\n",
        "        model_type = model_types.get(name, '').lower()\n",
        "        if 'baseline' in model_type:\n",
        "            baseline_idx = i\n",
        "        elif 'regloss' in model_type and 'combined' not in model_type:\n",
        "            regloss_idx = i\n",
        "        elif 'combined_basic' in model_type:\n",
        "            combined_basic_idx = i\n",
        "        elif 'combined_enhanced' in model_type:\n",
        "            combined_enhanced_idx = i\n",
        "\n",
        "    # Calculate component contributions\n",
        "    baseline_mse = mse_improvements[baseline_idx] if baseline_idx is not None else 0\n",
        "    component_data = {}\n",
        "\n",
        "    if baseline_idx is not None:\n",
        "        component_data['Baseline'] = baseline_mse\n",
        "    if regloss_idx is not None:\n",
        "        component_data['+ RegLoss'] = mse_improvements[regloss_idx] - baseline_mse\n",
        "    if combined_basic_idx is not None:\n",
        "        component_data['+ Combined Basic'] = mse_improvements[combined_basic_idx] - baseline_mse\n",
        "    if combined_enhanced_idx is not None:\n",
        "        component_data['+ Combined Enhanced'] = mse_improvements[combined_enhanced_idx] - baseline_mse\n",
        "\n",
        "    if component_data:\n",
        "        comp_names = list(component_data.keys())\n",
        "        comp_values = list(component_data.values())\n",
        "        comp_colors_list = ['#e74c3c', '#3498db', '#f39c12', '#27ae60'][:len(comp_names)]\n",
        "\n",
        "        bars = ax5.bar(comp_names, comp_values, color=comp_colors_list, alpha=0.8, linewidth=2, edgecolor='black')\n",
        "        ax5.set_ylabel('MSE Improvement over Baseline (%)')\n",
        "        ax5.set_title('E) Component Contribution Analysis: Cumulative Enhancement Effects', fontweight='bold')\n",
        "        ax5.grid(axis='y', alpha=0.3)\n",
        "        ax5.axhline(y=0, color='black', linestyle='-', alpha=0.5)\n",
        "\n",
        "        # Add improvement annotations\n",
        "        for bar, val in zip(bars, comp_values):\n",
        "            if abs(val) > 0.1:\n",
        "                y_pos = bar.get_height() + (0.5 if val > 0 else -1.5)\n",
        "                ax5.text(bar.get_x() + bar.get_width()/2., y_pos,\n",
        "                        f'{val:+.1f}%', ha='center', va='bottom' if val > 0 else 'top',\n",
        "                        fontweight='bold', fontsize=12)\n",
        "\n",
        "    # 6. Computational Efficiency\n",
        "    ax6 = fig.add_subplot(gs[3, 0])\n",
        "    if len(model_names) > 0:\n",
        "        bars = ax6.bar(range(len(model_names)), inference_times, color=plot_colors, alpha=0.8)\n",
        "        ax6.set_ylabel('Inference Time (ms)')\n",
        "        ax6.set_title('F) Computational\\nEfficiency', fontweight='bold')\n",
        "        ax6.set_xticks(range(len(model_names)))\n",
        "        ax6.set_xticklabels([name.split()[0] for name in model_names], rotation=45)\n",
        "        ax6.grid(axis='y', alpha=0.3)\n",
        "\n",
        "    # 7. Overall Quality Score\n",
        "    ax7 = fig.add_subplot(gs[3, 1])\n",
        "    if len(model_names) > 0:\n",
        "        # Composite quality score\n",
        "        quality_scores = []\n",
        "        for i in range(len(model_names)):\n",
        "            accuracy_score = max(0, mse_improvements[i]) * 0.4\n",
        "            topology_score = max(0, (jacobian_dets[i] - 0.5) * 2) * 0.3  # Normalized around 1.0\n",
        "            plausibility_score = anatomical_plausibilities[i] * 0.2\n",
        "            efficiency_score = max(0, (200 - inference_times[i]) / 200) * 0.1  # Penalty for slow inference\n",
        "            total_score = accuracy_score + topology_score + plausibility_score + efficiency_score\n",
        "            quality_scores.append(total_score)\n",
        "\n",
        "        bars = ax7.bar(range(len(model_names)), quality_scores, color=plot_colors, alpha=0.8)\n",
        "        ax7.set_ylabel('Composite Quality Score')\n",
        "        ax7.set_title('G) Overall Quality\\nRanking', fontweight='bold')\n",
        "        ax7.set_xticks(range(len(model_names)))\n",
        "        ax7.set_xticklabels([name.split()[0] for name in model_names], rotation=45)\n",
        "\n",
        "        # Add ranking numbers\n",
        "        sorted_scores = sorted(enumerate(quality_scores), key=lambda x: x[1], reverse=True)\n",
        "        for rank, (i, score) in enumerate(sorted_scores):\n",
        "            height = bars[i].get_height()\n",
        "            ax7.text(bars[i].get_x() + bars[i].get_width()/2., height + max(quality_scores)*0.02,\n",
        "                    f'#{rank+1}', ha='center', va='bottom', fontweight='bold', fontsize=10)\n",
        "\n",
        "    # 8. Enhanced Metrics Radar Chart\n",
        "    ax8 = fig.add_subplot(gs[3, 2:], projection='polar')\n",
        "    if len(model_names) > 0:\n",
        "        # Normalize metrics for radar chart\n",
        "        metrics_for_radar = []\n",
        "        metric_names = ['MSE Imp.', 'Local NCC', 'Grad. Corr.', 'Mutual Info',\n",
        "                       'Jacobian Det.', 'Plausibility', 'Smoothness']\n",
        "\n",
        "        for i in range(len(model_names)):\n",
        "            normalized_metrics = [\n",
        "                max(0, min(1, mse_improvements[i] / 10)),  # MSE improvement normalized to 0-1\n",
        "                max(0, min(1, local_ncc_improvements[i] + 0.5)),  # Local NCC shifted and normalized\n",
        "                max(0, min(1, gradient_correlations[i] + 0.5)),  # Gradient correlation\n",
        "                max(0, min(1, mutual_informations[i] / 2)),  # Mutual information\n",
        "                max(0, min(1, jacobian_dets[i])),  # Jacobian determinant\n",
        "                max(0, min(1, anatomical_plausibilities[i])),  # Anatomical plausibility\n",
        "                max(0, min(1, smoothness_scores[i] + 1))  # Smoothness score shifted\n",
        "            ]\n",
        "            metrics_for_radar.append(normalized_metrics)\n",
        "\n",
        "        angles = np.linspace(0, 2 * np.pi, len(metric_names), endpoint=False).tolist()\n",
        "        angles += angles[:1]  # Complete the circle\n",
        "\n",
        "        for i, (name, metrics) in enumerate(zip(model_names, metrics_for_radar)):\n",
        "            metrics += metrics[:1]  # Complete the circle\n",
        "            ax8.plot(angles, metrics, 'o-', linewidth=2, label=name.split()[0], color=plot_colors[i])\n",
        "            ax8.fill(angles, metrics, alpha=0.1, color=plot_colors[i])\n",
        "\n",
        "        ax8.set_xticks(angles[:-1])\n",
        "        ax8.set_xticklabels(metric_names)\n",
        "        ax8.set_ylim(0, 1)\n",
        "        ax8.set_title('H) Comprehensive Metrics\\nComparison', fontweight='bold', pad=20)\n",
        "        ax8.legend(loc='upper right', bbox_to_anchor=(1.3, 1.0))\n",
        "\n",
        "    plt.tight_layout()\n",
        "    plt.savefig('enhanced_ablation_comprehensive_analysis.png', dpi=300, bbox_inches='tight')\n",
        "    plt.show()\n",
        "\n",
        "    # Create model ranking\n",
        "    model_ranking = []\n",
        "    if quality_scores:\n",
        "        for i, name in enumerate(model_names):\n",
        "            model_ranking.append((name, quality_scores[i], plot_colors[i]))\n",
        "        model_ranking.sort(key=lambda x: x[1], reverse=True)\n",
        "\n",
        "    return fig, model_ranking\n",
        "\n",
        "\n",
        "# Run the enhanced visualization if we have results\n",
        "if 'ablation_results' in locals() and ablation_results:\n",
        "    try:\n",
        "        print(\"\\nCreating enhanced comprehensive visualization...\")\n",
        "        enhanced_fig, enhanced_ranking = create_enhanced_ablation_plots(ablation_results, loaded_models)\n",
        "        if enhanced_fig is not None:\n",
        "            print(\"Enhanced ablation study visualization completed successfully!\")\n",
        "\n",
        "    except Exception as e:\n",
        "        print(f\"Error creating enhanced visualization: {str(e)}\")\n",
        "        print(\"Check that all required metrics are present in results\")\n",
        "else:\n",
        "    print(\"No enhanced ablation results available for visualization.\")"
      ],
      "metadata": {
        "colab": {
          "base_uri": "https://localhost:8080/",
          "height": 943
        },
        "id": "J97UeD8iDUJq",
        "outputId": "53bfe259-a7ca-4900-d684-41d8bdada03e"
      },
      "execution_count": 23,
      "outputs": [
        {
          "output_type": "stream",
          "name": "stdout",
          "text": [
            "\n",
            "Creating enhanced comprehensive visualization...\n"
          ]
        },
        {
          "output_type": "display_data",
          "data": {
            "text/plain": [
              "<Figure size 2400x2000 with 10 Axes>"
            ],
            "image/png": "[encoded data removed]"
          },
          "metadata": {}
        },
        {
          "output_type": "stream",
          "name": "stdout",
          "text": [
            "Enhanced ablation study visualization completed successfully!\n"
          ]
        }
      ]
    },
    {
      "cell_type": "code",
      "source": [
        "# ====================================================================\n",
        "# Cell 12: Generate Enhanced Research Paper Results (FIXED)\n",
        "# ====================================================================\n",
        "\n",
        "def generate_enhanced_research_summary(ablation_results, model_configs):\n",
        "    \"\"\"Generate publication-ready enhanced summary\"\"\"\n",
        "    if not ablation_results:\n",
        "        print(\"No results available for enhanced research summary\")\n",
        "        return None, None\n",
        "\n",
        "    timestamp = time.strftime('%Y-%m-%d %H:%M:%S')\n",
        "    print(f\"\\nGenerating enhanced research paper summary... ({timestamp})\")\n",
        "\n",
        "    research_summary = f\"\"\"\n",
        "ENHANCED RESEARCH PAPER RESULTS: COMPREHENSIVE ABLATION STUDY\n",
        "\n",
        "Generated: {timestamp}\n",
        "Dataset: OASIS Brain MRI Registration Dataset\n",
        "Focus: Multi-Modal Evaluation of Registration Enhancement Components\n",
        "\n",
        "EXECUTIVE SUMMARY\n",
        "================\n",
        "This enhanced ablation study provides comprehensive evaluation of medical image\n",
        "registration approaches using both traditional metrics and advanced deformation\n",
        "quality measures. We systematically compare baseline, regularization-enhanced,\n",
        "and combined (affine + non-rigid) registration approaches across multiple\n",
        "dimensions of performance.\n",
        "\n",
        "ENHANCED EVALUATION METHODOLOGY\n",
        "==============================\n",
        "Our evaluation framework includes:\n",
        "\n",
        "Traditional Metrics:\n",
        "- Mean Squared Error (MSE) improvement\n",
        "- Normalized Cross Correlation (NCC) improvement\n",
        "- Structural Similarity Index (SSIM)\n",
        "\n",
        "Advanced Registration Quality:\n",
        "- Local patch-based NCC analysis\n",
        "- Gradient correlation between registered images\n",
        "- Mutual information preservation\n",
        "- Local SSIM over image regions\n",
        "\n",
        "Deformation Field Quality:\n",
        "- Jacobian determinant analysis (topology preservation)\n",
        "- Negative Jacobian ratio (folding detection)\n",
        "- Deformation field smoothness\n",
        "- Local rigidity preservation\n",
        "- Boundary preservation characteristics\n",
        "- Anatomical plausibility scoring\n",
        "\n",
        "COMPREHENSIVE RESULTS\n",
        "====================\"\"\"\n",
        "\n",
        "    # Enhanced analysis for each model\n",
        "    for name, result in ablation_results.items():\n",
        "        reg_metrics = result['registration_metrics']\n",
        "        deform_quality = result.get('deformation_quality', {})\n",
        "        comp_metrics = result['computational_metrics']\n",
        "\n",
        "        research_summary += f\"\"\"\n",
        "\n",
        "{name.upper()}:\n",
        "Registration Performance:\n",
        "  • MSE Improvement: {reg_metrics.get('mse_improvement_mean', 0)*100:.2f}% ± {reg_metrics.get('mse_improvement_std', 0)*100:.2f}%\n",
        "  • Global NCC Improvement: {reg_metrics.get('ncc_improvement_mean', 0):.4f} ± {reg_metrics.get('ncc_improvement_std', 0):.4f}\n",
        "  • Local NCC Improvement: {reg_metrics.get('local_ncc_improvement_mean', 0):.4f} ± {reg_metrics.get('local_ncc_improvement_std', 0):.4f}\n",
        "  • Gradient Correlation: {reg_metrics.get('gradient_correlation_mean', 0):.4f}\n",
        "  • Mutual Information: {reg_metrics.get('mutual_information_mean', 0):.4f}\n",
        "\n",
        "Deformation Quality:\n",
        "  • Jacobian Determinant: {deform_quality.get('jacobian_determinant_mean', 1.0):.3f} ± {deform_quality.get('jacobian_determinant_std', 0.0):.3f}\n",
        "  • Folding Ratio: {deform_quality.get('negative_jacobian_ratio_mean', 0.0):.1%}\n",
        "  • Smoothness Score: {deform_quality.get('smoothness_score_mean', 0.0):.3f}\n",
        "  • Anatomical Plausibility: {deform_quality.get('anatomical_plausibility_mean', 0.0):.3f}\n",
        "  • Local Rigidity: {deform_quality.get('local_rigidity_mean', 0.0):.3f}\n",
        "  • Boundary Preservation: {deform_quality.get('boundary_preservation_mean', 0.0):.3f}\n",
        "\n",
        "Computational Efficiency:\n",
        "  • Inference Time: {comp_metrics.get('inference_time_mean', 0)*1000:.1f}ms ± {comp_metrics.get('inference_time_std', 0)*1000:.1f}ms\"\"\"\n",
        "\n",
        "    # Enhanced comparative analysis\n",
        "    research_summary += f\"\"\"\n",
        "\n",
        "ENHANCED COMPARATIVE ANALYSIS\n",
        "============================\"\"\"\n",
        "\n",
        "    # Find best performers across different metrics\n",
        "    best_mse = max(ablation_results.items(), key=lambda x: x[1]['registration_metrics'].get('mse_improvement_mean', 0))\n",
        "    best_topology = max(ablation_results.items(), key=lambda x: x[1].get('deformation_quality', {}).get('jacobian_determinant_mean', 0))\n",
        "    best_plausibility = max(ablation_results.items(), key=lambda x: x[1].get('deformation_quality', {}).get('anatomical_plausibility_mean', 0))\n",
        "\n",
        "    research_summary += f\"\"\"\n",
        "\n",
        "Performance Leaders:\n",
        "• Best Registration Accuracy: {best_mse[0]} ({best_mse[1]['registration_metrics'].get('mse_improvement_mean', 0)*100:.2f}% MSE improvement)\n",
        "• Best Topology Preservation: {best_topology[0]} (Jacobian Det: {best_topology[1].get('deformation_quality', {}).get('jacobian_determinant_mean', 1.0):.3f})\n",
        "• Best Anatomical Plausibility: {best_plausibility[0]} (Score: {best_plausibility[1].get('deformation_quality', {}).get('anatomical_plausibility_mean', 0.0):.3f})\n",
        "\n",
        "Clinical Significance:\n",
        "The enhanced evaluation reveals that regularization techniques provide measurable improvements\n",
        "in deformation field quality that are not captured by traditional similarity metrics alone.\n",
        "Models showing high Jacobian determinant preservation (>0.95) and low folding ratios (<5%)\n",
        "are more suitable for clinical applications requiring anatomically plausible transformations.\n",
        "\n",
        "CONCLUSION\n",
        "==========\n",
        "This comprehensive evaluation framework demonstrates the importance of multi-dimensional\n",
        "assessment for medical image registration systems. Traditional similarity metrics, while\n",
        "important, provide incomplete characterization of registration quality. The inclusion of\n",
        "deformation field analysis reveals critical differences between approaches that impact\n",
        "clinical applicability and anatomical plausibility of results.\n",
        "\n",
        "END OF ENHANCED RESEARCH SUMMARY\n",
        "================================\n",
        "Generated on: {timestamp}\n",
        "Total Enhanced Metrics Evaluated: {len(ablation_results)}\n",
        "\"\"\"\n",
        "\n",
        "    # Create enhanced results table\n",
        "    enhanced_table_data = []\n",
        "    for name, result in ablation_results.items():\n",
        "        reg = result['registration_metrics']\n",
        "        deform = result.get('deformation_quality', {})\n",
        "        comp = result['computational_metrics']\n",
        "\n",
        "        enhanced_table_data.append({\n",
        "            'Method': name,\n",
        "            'MSE_Improvement_%': f\"{reg.get('mse_improvement_mean', 0)*100:.2f} ± {reg.get('mse_improvement_std', 0)*100:.2f}\",\n",
        "            'Local_NCC_Improvement': f\"{reg.get('local_ncc_improvement_mean', 0):.4f} ± {reg.get('local_ncc_improvement_std', 0):.4f}\",\n",
        "            'Gradient_Correlation': f\"{reg.get('gradient_correlation_mean', 0):.4f}\",\n",
        "            'Mutual_Information': f\"{reg.get('mutual_information_mean', 0):.4f}\",\n",
        "            'Jacobian_Determinant': f\"{deform.get('jacobian_determinant_mean', 1.0):.3f} ± {deform.get('jacobian_determinant_std', 0.0):.3f}\",\n",
        "            'Folding_Ratio_%': f\"{deform.get('negative_jacobian_ratio_mean', 0.0)*100:.1f}\",\n",
        "            'Anatomical_Plausibility': f\"{deform.get('anatomical_plausibility_mean', 0.0):.3f}\",\n",
        "            'Inference_Time_ms': f\"{comp.get('inference_time_mean', 0)*1000:.1f} ± {comp.get('inference_time_std', 0)*1000:.1f}\",\n",
        "            'Samples': result.get('n_samples', 0)\n",
        "        })\n",
        "\n",
        "    enhanced_results_df = pd.DataFrame(enhanced_table_data)\n",
        "\n",
        "    # Save enhanced results\n",
        "    try:\n",
        "        summary_filename = f'enhanced_research_ablation_results_{time.strftime(\"%Y%m%d_%H%M%S\")}.txt'\n",
        "        with open(summary_filename, 'w', encoding='utf-8') as f:\n",
        "            f.write(research_summary)\n",
        "        print(f\"Enhanced research summary saved: {summary_filename}\")\n",
        "\n",
        "        table_filename = f'enhanced_ablation_results_table_{time.strftime(\"%Y%m%d_%H%M%S\")}.csv'\n",
        "        enhanced_results_df.to_csv(table_filename, index=False)\n",
        "        print(f\"Enhanced results table saved: {table_filename}\")\n",
        "\n",
        "        return research_summary, enhanced_results_df\n",
        "\n",
        "    except Exception as e:\n",
        "        print(f\"Error saving enhanced research summary: {str(e)}\")\n",
        "        return research_summary, enhanced_results_df\n",
        "\n",
        "\n",
        "# Generate enhanced research materials\n",
        "if 'enhanced_ablation_results' in locals() and enhanced_ablation_results:\n",
        "    print(f\"\\nGenerating comprehensive enhanced research materials...\")\n",
        "    enhanced_research_summary, enhanced_results_table = generate_enhanced_research_summary(enhanced_ablation_results, loaded_models)\n",
        "    if enhanced_research_summary and enhanced_results_table is not None:\n",
        "        print(f\"Enhanced research materials generated successfully!\")\n",
        "        print(f\"Enhanced results table shape: {enhanced_results_table.shape}\")\n",
        "        print(f\"Enhanced summary length: {len(enhanced_research_summary.split())} words\")\n",
        "else:\n",
        "    print(\"No enhanced ablation results available for research summary.\")\n",
        "\n",
        "# ====================================================================\n",
        "# Final Summary and Recommendations (FIXED)\n",
        "# ====================================================================\n",
        "\n",
        "def print_enhanced_recommendations(results_dict):\n",
        "    \"\"\"Print actionable recommendations based on enhanced ablation study\"\"\"\n",
        "    if not results_dict:\n",
        "        print(\"No results available for enhanced recommendations\")\n",
        "        return\n",
        "\n",
        "    print(\"\\n\" + \"=\"*80)\n",
        "    print(\"ENHANCED ACTIONABLE RECOMMENDATIONS\")\n",
        "    print(\"=\"*80)\n",
        "\n",
        "    # Multi-criteria analysis\n",
        "    accuracy_scores = {name: result['registration_metrics']['mse_improvement_mean'] for name, result in results_dict.items()}\n",
        "    plausibility_scores = {name: result.get('deformation_quality', {}).get('anatomical_plausibility_mean', 0) for name, result in results_dict.items()}\n",
        "    topology_scores = {name: result.get('deformation_quality', {}).get('jacobian_determinant_mean', 1.0) for name, result in results_dict.items()}\n",
        "    time_scores = {name: result['computational_metrics']['inference_time_mean'] for name, result in results_dict.items()}\n",
        "\n",
        "    if accuracy_scores:\n",
        "        best_accuracy = max(accuracy_scores.items(), key=lambda x: x[1])\n",
        "        best_plausibility = max(plausibility_scores.items(), key=lambda x: x[1])\n",
        "        # FIXED: Find closest to 1.0 without using reverse parameter\n",
        "        best_topology = min(topology_scores.items(), key=lambda x: abs(x[1] - 1.0))  # Closest to 1.0\n",
        "        fastest_model = min(time_scores.items(), key=lambda x: x[1]) if time_scores else None\n",
        "\n",
        "        print(f\"For HIGHEST REGISTRATION ACCURACY: Use '{best_accuracy[0]}' ({best_accuracy[1]*100:.2f}% MSE improvement)\")\n",
        "        print(f\"For BEST ANATOMICAL PLAUSIBILITY: Use '{best_plausibility[0]}' (Score: {best_plausibility[1]:.3f})\")\n",
        "        print(f\"For OPTIMAL TOPOLOGY PRESERVATION: Use '{best_topology[0]}' (Jacobian Det: {best_topology[1]:.3f})\")\n",
        "        if fastest_model:\n",
        "            print(f\"For FASTEST INFERENCE: Use '{fastest_model[0]}' ({fastest_model[1]*1000:.1f}ms per sample)\")\n",
        "\n",
        "        # Clinical recommendations\n",
        "        print(f\"\\nCLINICAL APPLICATION GUIDANCE:\")\n",
        "\n",
        "        # Find model with best balance of accuracy and plausibility\n",
        "        clinical_scores = {}\n",
        "        for name in results_dict.keys():\n",
        "            accuracy_norm = accuracy_scores.get(name, 0) * 10  # Scale MSE improvement\n",
        "            plausibility_norm = plausibility_scores.get(name, 0)\n",
        "            topology_norm = max(0, 1 - abs(topology_scores.get(name, 1.0) - 1.0))  # Penalty for deviation from 1.0\n",
        "            clinical_score = 0.4 * accuracy_norm + 0.3 * plausibility_norm + 0.3 * topology_norm\n",
        "            clinical_scores[name] = clinical_score\n",
        "\n",
        "        best_clinical = max(clinical_scores.items(), key=lambda x: x[1])\n",
        "        print(f\"For CLINICAL APPLICATIONS: Use '{best_clinical[0]}' (Composite Clinical Score: {best_clinical[1]:.3f})\")\n",
        "\n",
        "        # Research recommendations\n",
        "        print(f\"\\nRESEARCH INSIGHTS:\")\n",
        "        print(f\"   1. Enhanced metrics reveal quality differences not captured by traditional similarity measures\")\n",
        "        print(f\"   2. Deformation field quality analysis is crucial for clinical applications\")\n",
        "        print(f\"   3. Combined approaches show promise but require careful regularization\")\n",
        "        print(f\"   4. Topology preservation (Jacobian determinant ≈ 1.0) indicates volume-preserving transformations\")\n",
        "        print(f\"   5. Anatomical plausibility scores correlate with clinical acceptability\")\n",
        "\n",
        "        print(f\"\\nNEXT STEPS:\")\n",
        "        print(f\"   1. Validate top-performing model on larger clinical dataset\")\n",
        "        print(f\"   2. Conduct expert radiologist evaluation of anatomical plausibility\")\n",
        "        print(f\"   3. Investigate failure cases using enhanced deformation analysis\")\n",
        "        print(f\"   4. Optimize regularization weights based on enhanced metrics\")\n",
        "        print(f\"   5. Consider multi-objective optimization combining accuracy and quality metrics\")\n",
        "\n",
        "\n",
        "# FIXED: Use correct variable name\n",
        "if 'enhanced_ablation_results' in locals() and enhanced_ablation_results:\n",
        "    print_enhanced_recommendations(enhanced_ablation_results)\n",
        "else:\n",
        "    print(\"No enhanced ablation results available for recommendations.\")\n",
        "\n",
        "print(f\"\\nENHANCED ABLATION STUDY COMPLETE!\")\n",
        "print(\"=\"*80)\n",
        "print(\"ENHANCED NOTEBOOK SUMMARY:\")\n",
        "print(\"1. ✅ Dependencies and setup\")\n",
        "print(\"2. ✅ Model architectures\")\n",
        "print(\"3. ✅ Model loading functions\")\n",
        "print(\"4. ✅ Model loading test\")\n",
        "print(\"5. ✅ Enhanced registration metrics (all basic + advanced)\")\n",
        "print(\"6. ✅ Data loading\")\n",
        "print(\"7. ✅ Dataset creation\")\n",
        "print(\"8. ✅ Enhanced ablation evaluator with comprehensive metrics\")\n",
        "print(\"9. ✅ Run enhanced evaluation with shape debugging\")\n",
        "print(\"10.✅ Enhanced results analysis with advanced metrics\")\n",
        "print(\"11.✅ Enhanced visualization with radar charts and quality scores\")\n",
        "print(\"12.✅ Enhanced research paper summary with clinical insights\")\n",
        "print(\"=\"*80)\n",
        "\n",
        "# Final file saving\n",
        "print(\"\\nSaving all enhanced results to Google Drive...\")\n",
        "\n",
        "# Save enhanced visualization\n",
        "try:\n",
        "    import shutil\n",
        "    shutil.copy('enhanced_ablation_comprehensive_analysis.png', '/content/drive/MyDrive/segmentation-project/final_results/')\n",
        "    print(\"✅ Enhanced visualization saved\")\n",
        "except:\n",
        "    print(\"⚠️ Could not save enhanced visualization\")\n",
        "\n",
        "# Save any CSV files that were generated\n",
        "import glob\n",
        "try:\n",
        "    csv_files = glob.glob('enhanced_ablation_results_table_*.csv')\n",
        "    txt_files = glob.glob('enhanced_research_ablation_results_*.txt')\n",
        "\n",
        "    for file in csv_files + txt_files:\n",
        "        shutil.copy(file, '/content/drive/MyDrive/segmentation-project/final_results/')\n",
        "\n",
        "    print(f\"✅ Saved {len(csv_files)} CSV files and {len(txt_files)} research summaries\")\n",
        "except Exception as e:\n",
        "    print(f\"⚠️ Error saving additional files: {e}\")\n",
        "\n",
        "print(\"\\nAll enhanced ablation study materials saved to Google Drive!\")\n",
        "print(\"The enhanced evaluation provides comprehensive analysis including:\")\n",
        "print(\"- Traditional similarity metrics (MSE, NCC, SSIM)\")\n",
        "print(\"- Advanced registration quality (local NCC, gradient correlation, mutual information)\")\n",
        "print(\"- Deformation field quality (Jacobian analysis, smoothness, anatomical plausibility)\")\n",
        "print(\"- Clinical applicability scores and recommendations\")\n",
        "print(\"\\nThis multi-dimensional analysis reveals model differences not captured by basic metrics alone.\")"
      ],
      "metadata": {
        "colab": {
          "base_uri": "https://localhost:8080/"
        },
        "id": "E54o_ZERC_rO",
        "outputId": "ccbc5451-df03-4de3-9e8d-0344026546d0"
      },
      "execution_count": 26,
      "outputs": [
        {
          "output_type": "stream",
          "name": "stdout",
          "text": [
            "\n",
            "Generating comprehensive enhanced research materials...\n",
            "\n",
            "Generating enhanced research paper summary... (2025-09-20 21:57:23)\n",
            "Enhanced research summary saved: enhanced_research_ablation_results_20250920_215723.txt\n",
            "Enhanced results table saved: enhanced_ablation_results_table_20250920_215723.csv\n",
            "Enhanced research materials generated successfully!\n",
            "Enhanced results table shape: (4, 10)\n",
            "Enhanced summary length: 566 words\n",
            "\n",
            "================================================================================\n",
            "ENHANCED ACTIONABLE RECOMMENDATIONS\n",
            "================================================================================\n",
            "For HIGHEST REGISTRATION ACCURACY: Use 'Combined (Reg Loss)' (2.24% MSE improvement)\n",
            "For BEST ANATOMICAL PLAUSIBILITY: Use 'RegLoss UNet' (Score: 0.949)\n",
            "For OPTIMAL TOPOLOGY PRESERVATION: Use 'Combined (Basic Loss)' (Jacobian Det: 0.999)\n",
            "For FASTEST INFERENCE: Use 'RegLoss UNet' (27015.6ms per sample)\n",
            "\n",
            "CLINICAL APPLICATION GUIDANCE:\n",
            "For CLINICAL APPLICATIONS: Use 'Combined (Basic Loss)' (Composite Clinical Score: 0.671)\n",
            "\n",
            "RESEARCH INSIGHTS:\n",
            "   1. Enhanced metrics reveal quality differences not captured by traditional similarity measures\n",
            "   2. Deformation field quality analysis is crucial for clinical applications\n",
            "   3. Combined approaches show promise but require careful regularization\n",
            "   4. Topology preservation (Jacobian determinant ≈ 1.0) indicates volume-preserving transformations\n",
            "   5. Anatomical plausibility scores correlate with clinical acceptability\n",
            "\n",
            "NEXT STEPS:\n",
            "   1. Validate top-performing model on larger clinical dataset\n",
            "   2. Conduct expert radiologist evaluation of anatomical plausibility\n",
            "   3. Investigate failure cases using enhanced deformation analysis\n",
            "   4. Optimize regularization weights based on enhanced metrics\n",
            "   5. Consider multi-objective optimization combining accuracy and quality metrics\n",
            "\n",
            "ENHANCED ABLATION STUDY COMPLETE!\n",
            "================================================================================\n",
            "ENHANCED NOTEBOOK SUMMARY:\n",
            "1. ✅ Dependencies and setup\n",
            "2. ✅ Model architectures\n",
            "3. ✅ Model loading functions\n",
            "4. ✅ Model loading test\n",
            "5. ✅ Enhanced registration metrics (all basic + advanced)\n",
            "6. ✅ Data loading\n",
            "7. ✅ Dataset creation\n",
            "8. ✅ Enhanced ablation evaluator with comprehensive metrics\n",
            "9. ✅ Run enhanced evaluation with shape debugging\n",
            "10.✅ Enhanced results analysis with advanced metrics\n",
            "11.✅ Enhanced visualization with radar charts and quality scores\n",
            "12.✅ Enhanced research paper summary with clinical insights\n",
            "================================================================================\n",
            "\n",
            "Saving all enhanced results to Google Drive...\n",
            "✅ Enhanced visualization saved\n",
            "✅ Saved 4 CSV files and 4 research summaries\n",
            "\n",
            "All enhanced ablation study materials saved to Google Drive!\n",
            "The enhanced evaluation provides comprehensive analysis including:\n",
            "- Traditional similarity metrics (MSE, NCC, SSIM)\n",
            "- Advanced registration quality (local NCC, gradient correlation, mutual information)\n",
            "- Deformation field quality (Jacobian analysis, smoothness, anatomical plausibility)\n",
            "- Clinical applicability scores and recommendations\n",
            "\n",
            "This multi-dimensional analysis reveals model differences not captured by basic metrics alone.\n"
          ]
        }
      ]
    }
  ],
  "metadata": {
    "colab": {
      "provenance": []
    },
    "kernelspec": {
      "display_name": "Python 3",
      "name": "python3"
    },
    "language_info": {
      "name": "python"
    }
  },
  "nbformat": 4,
  "nbformat_minor": 0
}